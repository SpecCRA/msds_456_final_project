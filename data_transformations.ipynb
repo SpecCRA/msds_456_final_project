{
 "nbformat": 4,
 "nbformat_minor": 2,
 "metadata": {
  "language_info": {
   "name": "python",
   "codemirror_mode": {
    "name": "ipython",
    "version": 3
   },
   "version": "3.7.4-final"
  },
  "orig_nbformat": 2,
  "file_extension": ".py",
  "mimetype": "text/x-python",
  "name": "python",
  "npconvert_exporter": "python",
  "pygments_lexer": "ipython3",
  "version": 3,
  "kernelspec": {
   "name": "python37464bitbaseconda1e0c91686aae43d9a876dfdafaecff22",
   "display_name": "Python 3.7.4 64-bit ('base': conda)"
  }
 },
 "cells": [
  {
   "cell_type": "markdown",
   "metadata": {},
   "source": [
    "# Setup"
   ]
  },
  {
   "cell_type": "code",
   "execution_count": 15,
   "metadata": {},
   "outputs": [],
   "source": [
    "import pandas as pd\n",
    "import numpy as np"
   ]
  },
  {
   "cell_type": "markdown",
   "metadata": {},
   "source": [
    "# Import Data"
   ]
  },
  {
   "cell_type": "code",
   "execution_count": 24,
   "metadata": {},
   "outputs": [],
   "source": [
    "path = './data_files/{}'\n",
    "\n",
    "player_adv_df = pd.read_csv(path.format('2019-20_player_adv.csv'))\n",
    "player_tot_df = pd.read_csv(path.format('2019-20_player_traditonal_totals.csv'))\n",
    "team_adv_df = pd.read_csv(path.format('2019-20_team_adv.csv'))\n",
    "team_tot_df = pd.read_csv(path.format('2019-20_team_totals.csv'))\n",
    "team_opp_tot_df = pd.read_csv(path.format('2019-20_opp_totals.csv'))"
   ]
  },
  {
   "cell_type": "code",
   "execution_count": 17,
   "metadata": {},
   "outputs": [
    {
     "data": {
      "text/plain": "Index(['Unnamed: 0', 'PLAYER_ID', 'PLAYER_NAME', 'TEAM_ID',\n       'TEAM_ABBREVIATION', 'AGE', 'GP', 'W', 'L', 'W_PCT', 'MIN',\n       'E_OFF_RATING', 'OFF_RATING', 'sp_work_OFF_RATING', 'E_DEF_RATING',\n       'DEF_RATING', 'sp_work_DEF_RATING', 'E_NET_RATING', 'NET_RATING',\n       'sp_work_NET_RATING', 'AST_PCT', 'AST_TO', 'AST_RATIO', 'OREB_PCT',\n       'DREB_PCT', 'REB_PCT', 'TM_TOV_PCT', 'E_TOV_PCT', 'EFG_PCT', 'TS_PCT',\n       'USG_PCT', 'E_USG_PCT', 'E_PACE', 'PACE', 'PACE_PER40', 'sp_work_PACE',\n       'PIE', 'POSS', 'FGM', 'FGA', 'FGM_PG', 'FGA_PG', 'FG_PCT', 'GP_RANK',\n       'W_RANK', 'L_RANK', 'W_PCT_RANK', 'MIN_RANK', 'E_OFF_RATING_RANK',\n       'OFF_RATING_RANK', 'sp_work_OFF_RATING_RANK', 'E_DEF_RATING_RANK',\n       'DEF_RATING_RANK', 'sp_work_DEF_RATING_RANK', 'E_NET_RATING_RANK',\n       'NET_RATING_RANK', 'sp_work_NET_RATING_RANK', 'AST_PCT_RANK',\n       'AST_TO_RANK', 'AST_RATIO_RANK', 'OREB_PCT_RANK', 'DREB_PCT_RANK',\n       'REB_PCT_RANK', 'TM_TOV_PCT_RANK', 'E_TOV_PCT_RANK', 'EFG_PCT_RANK',\n       'TS_PCT_RANK', 'USG_PCT_RANK', 'E_USG_PCT_RANK', 'E_PACE_RANK',\n       'PACE_RANK', 'sp_work_PACE_RANK', 'PIE_RANK', 'FGM_RANK', 'FGA_RANK',\n       'FGM_PG_RANK', 'FGA_PG_RANK', 'FG_PCT_RANK', 'CFID', 'CFPARAMS'],\n      dtype='object')"
     },
     "execution_count": 17,
     "metadata": {},
     "output_type": "execute_result"
    }
   ],
   "source": [
    "player_adv_df.columns"
   ]
  },
  {
   "cell_type": "code",
   "execution_count": 18,
   "metadata": {},
   "outputs": [
    {
     "data": {
      "text/html": "<div>\n<style scoped>\n    .dataframe tbody tr th:only-of-type {\n        vertical-align: middle;\n    }\n\n    .dataframe tbody tr th {\n        vertical-align: top;\n    }\n\n    .dataframe thead th {\n        text-align: right;\n    }\n</style>\n<table border=\"1\" class=\"dataframe\">\n  <thead>\n    <tr style=\"text-align: right;\">\n      <th></th>\n      <th>PLAYER_NAME</th>\n      <th>PACE</th>\n    </tr>\n  </thead>\n  <tbody>\n    <tr>\n      <td>0</td>\n      <td>Aaron Gordon</td>\n      <td>99.07</td>\n    </tr>\n    <tr>\n      <td>1</td>\n      <td>Aaron Holiday</td>\n      <td>99.80</td>\n    </tr>\n    <tr>\n      <td>2</td>\n      <td>Abdel Nader</td>\n      <td>101.60</td>\n    </tr>\n    <tr>\n      <td>3</td>\n      <td>Adam Mokoka</td>\n      <td>102.39</td>\n    </tr>\n    <tr>\n      <td>4</td>\n      <td>Admiral Schofield</td>\n      <td>103.17</td>\n    </tr>\n    <tr>\n      <td>...</td>\n      <td>...</td>\n      <td>...</td>\n    </tr>\n    <tr>\n      <td>505</td>\n      <td>Zach LaVine</td>\n      <td>100.92</td>\n    </tr>\n    <tr>\n      <td>506</td>\n      <td>Zach Norvell Jr.</td>\n      <td>107.05</td>\n    </tr>\n    <tr>\n      <td>507</td>\n      <td>Zhaire Smith</td>\n      <td>107.63</td>\n    </tr>\n    <tr>\n      <td>508</td>\n      <td>Zion Williamson</td>\n      <td>106.84</td>\n    </tr>\n    <tr>\n      <td>509</td>\n      <td>Zylan Cheatham</td>\n      <td>100.14</td>\n    </tr>\n  </tbody>\n</table>\n<p>510 rows × 2 columns</p>\n</div>",
      "text/plain": "           PLAYER_NAME    PACE\n0         Aaron Gordon   99.07\n1        Aaron Holiday   99.80\n2          Abdel Nader  101.60\n3          Adam Mokoka  102.39\n4    Admiral Schofield  103.17\n..                 ...     ...\n505        Zach LaVine  100.92\n506   Zach Norvell Jr.  107.05\n507       Zhaire Smith  107.63\n508    Zion Williamson  106.84\n509     Zylan Cheatham  100.14\n\n[510 rows x 2 columns]"
     },
     "execution_count": 18,
     "metadata": {},
     "output_type": "execute_result"
    }
   ],
   "source": [
    "player_adv_df[['PLAYER_NAME', 'PACE']]"
   ]
  },
  {
   "cell_type": "code",
   "execution_count": 19,
   "metadata": {},
   "outputs": [
    {
     "data": {
      "text/plain": "Index(['Unnamed: 0', 'PLAYER_ID', 'PLAYER_NAME', 'TEAM_ID',\n       'TEAM_ABBREVIATION', 'AGE', 'GP', 'W', 'L', 'W_PCT', 'MIN', 'FGM',\n       'FGA', 'FG_PCT', 'FG3M', 'FG3A', 'FG3_PCT', 'FTM', 'FTA', 'FT_PCT',\n       'OREB', 'DREB', 'REB', 'AST', 'TOV', 'STL', 'BLK', 'BLKA', 'PF', 'PFD',\n       'PTS', 'PLUS_MINUS', 'NBA_FANTASY_PTS', 'DD2', 'TD3', 'GP_RANK',\n       'W_RANK', 'L_RANK', 'W_PCT_RANK', 'MIN_RANK', 'FGM_RANK', 'FGA_RANK',\n       'FG_PCT_RANK', 'FG3M_RANK', 'FG3A_RANK', 'FG3_PCT_RANK', 'FTM_RANK',\n       'FTA_RANK', 'FT_PCT_RANK', 'OREB_RANK', 'DREB_RANK', 'REB_RANK',\n       'AST_RANK', 'TOV_RANK', 'STL_RANK', 'BLK_RANK', 'BLKA_RANK', 'PF_RANK',\n       'PFD_RANK', 'PTS_RANK', 'PLUS_MINUS_RANK', 'NBA_FANTASY_PTS_RANK',\n       'DD2_RANK', 'TD3_RANK', 'CFID', 'CFPARAMS'],\n      dtype='object')"
     },
     "execution_count": 19,
     "metadata": {},
     "output_type": "execute_result"
    }
   ],
   "source": [
    "player_tot_df.columns"
   ]
  },
  {
   "cell_type": "code",
   "execution_count": 20,
   "metadata": {},
   "outputs": [
    {
     "data": {
      "text/html": "<div>\n<style scoped>\n    .dataframe tbody tr th:only-of-type {\n        vertical-align: middle;\n    }\n\n    .dataframe tbody tr th {\n        vertical-align: top;\n    }\n\n    .dataframe thead th {\n        text-align: right;\n    }\n</style>\n<table border=\"1\" class=\"dataframe\">\n  <thead>\n    <tr style=\"text-align: right;\">\n      <th></th>\n      <th>PLAYER_NAME</th>\n      <th>PTS</th>\n    </tr>\n  </thead>\n  <tbody>\n    <tr>\n      <td>0</td>\n      <td>Aaron Gordon</td>\n      <td>756</td>\n    </tr>\n    <tr>\n      <td>1</td>\n      <td>Aaron Holiday</td>\n      <td>506</td>\n    </tr>\n    <tr>\n      <td>2</td>\n      <td>Abdel Nader</td>\n      <td>246</td>\n    </tr>\n    <tr>\n      <td>3</td>\n      <td>Adam Mokoka</td>\n      <td>20</td>\n    </tr>\n    <tr>\n      <td>4</td>\n      <td>Admiral Schofield</td>\n      <td>83</td>\n    </tr>\n    <tr>\n      <td>...</td>\n      <td>...</td>\n      <td>...</td>\n    </tr>\n    <tr>\n      <td>505</td>\n      <td>Zach LaVine</td>\n      <td>1504</td>\n    </tr>\n    <tr>\n      <td>506</td>\n      <td>Zach Norvell Jr.</td>\n      <td>10</td>\n    </tr>\n    <tr>\n      <td>507</td>\n      <td>Zhaire Smith</td>\n      <td>8</td>\n    </tr>\n    <tr>\n      <td>508</td>\n      <td>Zion Williamson</td>\n      <td>303</td>\n    </tr>\n    <tr>\n      <td>509</td>\n      <td>Zylan Cheatham</td>\n      <td>4</td>\n    </tr>\n  </tbody>\n</table>\n<p>510 rows × 2 columns</p>\n</div>",
      "text/plain": "           PLAYER_NAME   PTS\n0         Aaron Gordon   756\n1        Aaron Holiday   506\n2          Abdel Nader   246\n3          Adam Mokoka    20\n4    Admiral Schofield    83\n..                 ...   ...\n505        Zach LaVine  1504\n506   Zach Norvell Jr.    10\n507       Zhaire Smith     8\n508    Zion Williamson   303\n509     Zylan Cheatham     4\n\n[510 rows x 2 columns]"
     },
     "execution_count": 20,
     "metadata": {},
     "output_type": "execute_result"
    }
   ],
   "source": [
    "player_tot_df[['PLAYER_NAME', 'PTS']]"
   ]
  },
  {
   "cell_type": "code",
   "execution_count": 21,
   "metadata": {},
   "outputs": [
    {
     "data": {
      "text/plain": "Index(['Unnamed: 0', 'TEAM_ID', 'TEAM_NAME', 'GP', 'W', 'L', 'W_PCT', 'MIN',\n       'E_OFF_RATING', 'OFF_RATING', 'E_DEF_RATING', 'DEF_RATING',\n       'E_NET_RATING', 'NET_RATING', 'AST_PCT', 'AST_TO', 'AST_RATIO',\n       'OREB_PCT', 'DREB_PCT', 'REB_PCT', 'TM_TOV_PCT', 'EFG_PCT', 'TS_PCT',\n       'E_PACE', 'PACE', 'PACE_PER40', 'POSS', 'PIE', 'GP_RANK', 'W_RANK',\n       'L_RANK', 'W_PCT_RANK', 'MIN_RANK', 'OFF_RATING_RANK',\n       'DEF_RATING_RANK', 'NET_RATING_RANK', 'AST_PCT_RANK', 'AST_TO_RANK',\n       'AST_RATIO_RANK', 'OREB_PCT_RANK', 'DREB_PCT_RANK', 'REB_PCT_RANK',\n       'TM_TOV_PCT_RANK', 'EFG_PCT_RANK', 'TS_PCT_RANK', 'PACE_RANK',\n       'PIE_RANK', 'CFID', 'CFPARAMS'],\n      dtype='object')"
     },
     "execution_count": 21,
     "metadata": {},
     "output_type": "execute_result"
    }
   ],
   "source": [
    "team_adv_df.columns"
   ]
  },
  {
   "cell_type": "code",
   "execution_count": 26,
   "metadata": {},
   "outputs": [],
   "source": [
    "calc_team_poss_df = team_adv_df[['TEAM_NAME','GP', 'PACE']].copy()"
   ]
  },
  {
   "cell_type": "code",
   "execution_count": 27,
   "metadata": {},
   "outputs": [],
   "source": [
    "calc_team_poss_df['tot_poss'] = team_adv_df.GP * team_adv_df.PACE"
   ]
  },
  {
   "cell_type": "code",
   "execution_count": 28,
   "metadata": {},
   "outputs": [
    {
     "data": {
      "text/html": "<div>\n<style scoped>\n    .dataframe tbody tr th:only-of-type {\n        vertical-align: middle;\n    }\n\n    .dataframe tbody tr th {\n        vertical-align: top;\n    }\n\n    .dataframe thead th {\n        text-align: right;\n    }\n</style>\n<table border=\"1\" class=\"dataframe\">\n  <thead>\n    <tr style=\"text-align: right;\">\n      <th></th>\n      <th>TEAM_NAME</th>\n      <th>GP</th>\n      <th>PACE</th>\n      <th>tot_poss</th>\n    </tr>\n  </thead>\n  <tbody>\n    <tr>\n      <td>0</td>\n      <td>Atlanta Hawks</td>\n      <td>60</td>\n      <td>103.44</td>\n      <td>6206.40</td>\n    </tr>\n    <tr>\n      <td>1</td>\n      <td>Boston Celtics</td>\n      <td>58</td>\n      <td>100.00</td>\n      <td>5800.00</td>\n    </tr>\n    <tr>\n      <td>2</td>\n      <td>Brooklyn Nets</td>\n      <td>57</td>\n      <td>101.58</td>\n      <td>5790.06</td>\n    </tr>\n    <tr>\n      <td>3</td>\n      <td>Charlotte Hornets</td>\n      <td>58</td>\n      <td>96.66</td>\n      <td>5606.28</td>\n    </tr>\n    <tr>\n      <td>4</td>\n      <td>Chicago Bulls</td>\n      <td>59</td>\n      <td>100.57</td>\n      <td>5933.63</td>\n    </tr>\n    <tr>\n      <td>5</td>\n      <td>Cleveland Cavaliers</td>\n      <td>58</td>\n      <td>99.24</td>\n      <td>5755.92</td>\n    </tr>\n    <tr>\n      <td>6</td>\n      <td>Dallas Mavericks</td>\n      <td>59</td>\n      <td>99.68</td>\n      <td>5881.12</td>\n    </tr>\n    <tr>\n      <td>7</td>\n      <td>Denver Nuggets</td>\n      <td>58</td>\n      <td>97.59</td>\n      <td>5660.22</td>\n    </tr>\n    <tr>\n      <td>8</td>\n      <td>Detroit Pistons</td>\n      <td>60</td>\n      <td>98.22</td>\n      <td>5893.20</td>\n    </tr>\n    <tr>\n      <td>9</td>\n      <td>Golden State Warriors</td>\n      <td>58</td>\n      <td>101.16</td>\n      <td>5867.28</td>\n    </tr>\n    <tr>\n      <td>10</td>\n      <td>Houston Rockets</td>\n      <td>58</td>\n      <td>103.87</td>\n      <td>6024.46</td>\n    </tr>\n    <tr>\n      <td>11</td>\n      <td>Indiana Pacers</td>\n      <td>58</td>\n      <td>98.87</td>\n      <td>5734.46</td>\n    </tr>\n    <tr>\n      <td>12</td>\n      <td>LA Clippers</td>\n      <td>58</td>\n      <td>102.64</td>\n      <td>5953.12</td>\n    </tr>\n    <tr>\n      <td>13</td>\n      <td>Los Angeles Lakers</td>\n      <td>56</td>\n      <td>100.99</td>\n      <td>5655.44</td>\n    </tr>\n    <tr>\n      <td>14</td>\n      <td>Memphis Grizzlies</td>\n      <td>58</td>\n      <td>103.56</td>\n      <td>6006.48</td>\n    </tr>\n    <tr>\n      <td>15</td>\n      <td>Miami Heat</td>\n      <td>58</td>\n      <td>98.71</td>\n      <td>5725.18</td>\n    </tr>\n    <tr>\n      <td>16</td>\n      <td>Milwaukee Bucks</td>\n      <td>58</td>\n      <td>105.38</td>\n      <td>6112.04</td>\n    </tr>\n    <tr>\n      <td>17</td>\n      <td>Minnesota Timberwolves</td>\n      <td>57</td>\n      <td>103.63</td>\n      <td>5906.91</td>\n    </tr>\n    <tr>\n      <td>18</td>\n      <td>New Orleans Pelicans</td>\n      <td>58</td>\n      <td>103.76</td>\n      <td>6018.08</td>\n    </tr>\n    <tr>\n      <td>19</td>\n      <td>New York Knicks</td>\n      <td>58</td>\n      <td>99.21</td>\n      <td>5754.18</td>\n    </tr>\n    <tr>\n      <td>20</td>\n      <td>Oklahoma City Thunder</td>\n      <td>58</td>\n      <td>99.19</td>\n      <td>5753.02</td>\n    </tr>\n    <tr>\n      <td>21</td>\n      <td>Orlando Magic</td>\n      <td>58</td>\n      <td>98.31</td>\n      <td>5701.98</td>\n    </tr>\n    <tr>\n      <td>22</td>\n      <td>Philadelphia 76ers</td>\n      <td>59</td>\n      <td>99.71</td>\n      <td>5882.89</td>\n    </tr>\n    <tr>\n      <td>23</td>\n      <td>Phoenix Suns</td>\n      <td>59</td>\n      <td>101.85</td>\n      <td>6009.15</td>\n    </tr>\n    <tr>\n      <td>24</td>\n      <td>Portland Trail Blazers</td>\n      <td>59</td>\n      <td>101.26</td>\n      <td>5974.34</td>\n    </tr>\n    <tr>\n      <td>25</td>\n      <td>Sacramento Kings</td>\n      <td>57</td>\n      <td>98.93</td>\n      <td>5639.01</td>\n    </tr>\n    <tr>\n      <td>26</td>\n      <td>San Antonio Spurs</td>\n      <td>57</td>\n      <td>100.62</td>\n      <td>5735.34</td>\n    </tr>\n    <tr>\n      <td>27</td>\n      <td>Toronto Raptors</td>\n      <td>58</td>\n      <td>100.84</td>\n      <td>5848.72</td>\n    </tr>\n    <tr>\n      <td>28</td>\n      <td>Utah Jazz</td>\n      <td>58</td>\n      <td>99.24</td>\n      <td>5755.92</td>\n    </tr>\n    <tr>\n      <td>29</td>\n      <td>Washington Wizards</td>\n      <td>57</td>\n      <td>103.67</td>\n      <td>5909.19</td>\n    </tr>\n  </tbody>\n</table>\n</div>",
      "text/plain": "                 TEAM_NAME  GP    PACE  tot_poss\n0            Atlanta Hawks  60  103.44   6206.40\n1           Boston Celtics  58  100.00   5800.00\n2            Brooklyn Nets  57  101.58   5790.06\n3        Charlotte Hornets  58   96.66   5606.28\n4            Chicago Bulls  59  100.57   5933.63\n5      Cleveland Cavaliers  58   99.24   5755.92\n6         Dallas Mavericks  59   99.68   5881.12\n7           Denver Nuggets  58   97.59   5660.22\n8          Detroit Pistons  60   98.22   5893.20\n9    Golden State Warriors  58  101.16   5867.28\n10         Houston Rockets  58  103.87   6024.46\n11          Indiana Pacers  58   98.87   5734.46\n12             LA Clippers  58  102.64   5953.12\n13      Los Angeles Lakers  56  100.99   5655.44\n14       Memphis Grizzlies  58  103.56   6006.48\n15              Miami Heat  58   98.71   5725.18\n16         Milwaukee Bucks  58  105.38   6112.04\n17  Minnesota Timberwolves  57  103.63   5906.91\n18    New Orleans Pelicans  58  103.76   6018.08\n19         New York Knicks  58   99.21   5754.18\n20   Oklahoma City Thunder  58   99.19   5753.02\n21           Orlando Magic  58   98.31   5701.98\n22      Philadelphia 76ers  59   99.71   5882.89\n23            Phoenix Suns  59  101.85   6009.15\n24  Portland Trail Blazers  59  101.26   5974.34\n25        Sacramento Kings  57   98.93   5639.01\n26       San Antonio Spurs  57  100.62   5735.34\n27         Toronto Raptors  58  100.84   5848.72\n28               Utah Jazz  58   99.24   5755.92\n29      Washington Wizards  57  103.67   5909.19"
     },
     "execution_count": 28,
     "metadata": {},
     "output_type": "execute_result"
    }
   ],
   "source": [
    "calc_team_poss_df"
   ]
  },
  {
   "cell_type": "code",
   "execution_count": 23,
   "metadata": {},
   "outputs": [
    {
     "data": {
      "text/plain": "Index(['Unnamed: 0', 'TEAM_ID', 'TEAM_NAME', 'GP', 'W', 'L', 'W_PCT', 'MIN',\n       'FGM', 'FGA', 'FG_PCT', 'FG3M', 'FG3A', 'FG3_PCT', 'FTM', 'FTA',\n       'FT_PCT', 'OREB', 'DREB', 'REB', 'AST', 'TOV', 'STL', 'BLK', 'BLKA',\n       'PF', 'PFD', 'PTS', 'PLUS_MINUS', 'GP_RANK', 'W_RANK', 'L_RANK',\n       'W_PCT_RANK', 'MIN_RANK', 'FGM_RANK', 'FGA_RANK', 'FG_PCT_RANK',\n       'FG3M_RANK', 'FG3A_RANK', 'FG3_PCT_RANK', 'FTM_RANK', 'FTA_RANK',\n       'FT_PCT_RANK', 'OREB_RANK', 'DREB_RANK', 'REB_RANK', 'AST_RANK',\n       'TOV_RANK', 'STL_RANK', 'BLK_RANK', 'BLKA_RANK', 'PF_RANK', 'PFD_RANK',\n       'PTS_RANK', 'PLUS_MINUS_RANK', 'CFID', 'CFPARAMS'],\n      dtype='object')"
     },
     "execution_count": 23,
     "metadata": {},
     "output_type": "execute_result"
    }
   ],
   "source": [
    "team_tot_df.columns"
   ]
  },
  {
   "cell_type": "code",
   "execution_count": 25,
   "metadata": {},
   "outputs": [
    {
     "data": {
      "text/html": "<div>\n<style scoped>\n    .dataframe tbody tr th:only-of-type {\n        vertical-align: middle;\n    }\n\n    .dataframe tbody tr th {\n        vertical-align: top;\n    }\n\n    .dataframe thead th {\n        text-align: right;\n    }\n</style>\n<table border=\"1\" class=\"dataframe\">\n  <thead>\n    <tr style=\"text-align: right;\">\n      <th></th>\n      <th>TEAM_NAME</th>\n      <th>PTS</th>\n    </tr>\n  </thead>\n  <tbody>\n    <tr>\n      <td>0</td>\n      <td>Atlanta Hawks</td>\n      <td>6643</td>\n    </tr>\n    <tr>\n      <td>1</td>\n      <td>Boston Celtics</td>\n      <td>6578</td>\n    </tr>\n    <tr>\n      <td>2</td>\n      <td>Brooklyn Nets</td>\n      <td>6297</td>\n    </tr>\n    <tr>\n      <td>3</td>\n      <td>Charlotte Hornets</td>\n      <td>5933</td>\n    </tr>\n    <tr>\n      <td>4</td>\n      <td>Chicago Bulls</td>\n      <td>6296</td>\n    </tr>\n    <tr>\n      <td>5</td>\n      <td>Cleveland Cavaliers</td>\n      <td>6182</td>\n    </tr>\n    <tr>\n      <td>6</td>\n      <td>Dallas Mavericks</td>\n      <td>6881</td>\n    </tr>\n    <tr>\n      <td>7</td>\n      <td>Denver Nuggets</td>\n      <td>6418</td>\n    </tr>\n    <tr>\n      <td>8</td>\n      <td>Detroit Pistons</td>\n      <td>6463</td>\n    </tr>\n    <tr>\n      <td>9</td>\n      <td>Golden State Warriors</td>\n      <td>6147</td>\n    </tr>\n    <tr>\n      <td>10</td>\n      <td>Houston Rockets</td>\n      <td>6899</td>\n    </tr>\n    <tr>\n      <td>11</td>\n      <td>Indiana Pacers</td>\n      <td>6341</td>\n    </tr>\n    <tr>\n      <td>12</td>\n      <td>LA Clippers</td>\n      <td>6705</td>\n    </tr>\n    <tr>\n      <td>13</td>\n      <td>Los Angeles Lakers</td>\n      <td>6430</td>\n    </tr>\n    <tr>\n      <td>14</td>\n      <td>Memphis Grizzlies</td>\n      <td>6540</td>\n    </tr>\n    <tr>\n      <td>15</td>\n      <td>Miami Heat</td>\n      <td>6525</td>\n    </tr>\n    <tr>\n      <td>16</td>\n      <td>Milwaukee Bucks</td>\n      <td>6949</td>\n    </tr>\n    <tr>\n      <td>17</td>\n      <td>Minnesota Timberwolves</td>\n      <td>6442</td>\n    </tr>\n    <tr>\n      <td>18</td>\n      <td>New Orleans Pelicans</td>\n      <td>6719</td>\n    </tr>\n    <tr>\n      <td>19</td>\n      <td>New York Knicks</td>\n      <td>6073</td>\n    </tr>\n    <tr>\n      <td>20</td>\n      <td>Oklahoma City Thunder</td>\n      <td>6452</td>\n    </tr>\n    <tr>\n      <td>21</td>\n      <td>Orlando Magic</td>\n      <td>6067</td>\n    </tr>\n    <tr>\n      <td>22</td>\n      <td>Philadelphia 76ers</td>\n      <td>6408</td>\n    </tr>\n    <tr>\n      <td>23</td>\n      <td>Phoenix Suns</td>\n      <td>6620</td>\n    </tr>\n    <tr>\n      <td>24</td>\n      <td>Portland Trail Blazers</td>\n      <td>6679</td>\n    </tr>\n    <tr>\n      <td>25</td>\n      <td>Sacramento Kings</td>\n      <td>6180</td>\n    </tr>\n    <tr>\n      <td>26</td>\n      <td>San Antonio Spurs</td>\n      <td>6432</td>\n    </tr>\n    <tr>\n      <td>27</td>\n      <td>Toronto Raptors</td>\n      <td>6554</td>\n    </tr>\n    <tr>\n      <td>28</td>\n      <td>Utah Jazz</td>\n      <td>6437</td>\n    </tr>\n    <tr>\n      <td>29</td>\n      <td>Washington Wizards</td>\n      <td>6597</td>\n    </tr>\n  </tbody>\n</table>\n</div>",
      "text/plain": "                 TEAM_NAME   PTS\n0            Atlanta Hawks  6643\n1           Boston Celtics  6578\n2            Brooklyn Nets  6297\n3        Charlotte Hornets  5933\n4            Chicago Bulls  6296\n5      Cleveland Cavaliers  6182\n6         Dallas Mavericks  6881\n7           Denver Nuggets  6418\n8          Detroit Pistons  6463\n9    Golden State Warriors  6147\n10         Houston Rockets  6899\n11          Indiana Pacers  6341\n12             LA Clippers  6705\n13      Los Angeles Lakers  6430\n14       Memphis Grizzlies  6540\n15              Miami Heat  6525\n16         Milwaukee Bucks  6949\n17  Minnesota Timberwolves  6442\n18    New Orleans Pelicans  6719\n19         New York Knicks  6073\n20   Oklahoma City Thunder  6452\n21           Orlando Magic  6067\n22      Philadelphia 76ers  6408\n23            Phoenix Suns  6620\n24  Portland Trail Blazers  6679\n25        Sacramento Kings  6180\n26       San Antonio Spurs  6432\n27         Toronto Raptors  6554\n28               Utah Jazz  6437\n29      Washington Wizards  6597"
     },
     "execution_count": 25,
     "metadata": {},
     "output_type": "execute_result"
    }
   ],
   "source": [
    "team_tot_df[['TEAM_NAME', 'PTS']]"
   ]
  },
  {
   "cell_type": "code",
   "execution_count": 32,
   "metadata": {},
   "outputs": [],
   "source": [
    "calc_team_poss_df['offrtg'] = team_tot_df.PTS / calc_team_poss_df.tot_poss * 100"
   ]
  },
  {
   "cell_type": "code",
   "execution_count": 34,
   "metadata": {},
   "outputs": [
    {
     "data": {
      "text/html": "<div>\n<style scoped>\n    .dataframe tbody tr th:only-of-type {\n        vertical-align: middle;\n    }\n\n    .dataframe tbody tr th {\n        vertical-align: top;\n    }\n\n    .dataframe thead th {\n        text-align: right;\n    }\n</style>\n<table border=\"1\" class=\"dataframe\">\n  <thead>\n    <tr style=\"text-align: right;\">\n      <th></th>\n      <th>TEAM_NAME</th>\n      <th>GP</th>\n      <th>PACE</th>\n      <th>tot_poss</th>\n      <th>offrtg</th>\n    </tr>\n  </thead>\n  <tbody>\n    <tr>\n      <td>0</td>\n      <td>Atlanta Hawks</td>\n      <td>60</td>\n      <td>103.44</td>\n      <td>6206.40</td>\n      <td>107.034674</td>\n    </tr>\n    <tr>\n      <td>1</td>\n      <td>Boston Celtics</td>\n      <td>58</td>\n      <td>100.00</td>\n      <td>5800.00</td>\n      <td>113.413793</td>\n    </tr>\n    <tr>\n      <td>2</td>\n      <td>Brooklyn Nets</td>\n      <td>57</td>\n      <td>101.58</td>\n      <td>5790.06</td>\n      <td>108.755350</td>\n    </tr>\n    <tr>\n      <td>3</td>\n      <td>Charlotte Hornets</td>\n      <td>58</td>\n      <td>96.66</td>\n      <td>5606.28</td>\n      <td>105.827750</td>\n    </tr>\n    <tr>\n      <td>4</td>\n      <td>Chicago Bulls</td>\n      <td>59</td>\n      <td>100.57</td>\n      <td>5933.63</td>\n      <td>106.107054</td>\n    </tr>\n    <tr>\n      <td>5</td>\n      <td>Cleveland Cavaliers</td>\n      <td>58</td>\n      <td>99.24</td>\n      <td>5755.92</td>\n      <td>107.402466</td>\n    </tr>\n    <tr>\n      <td>6</td>\n      <td>Dallas Mavericks</td>\n      <td>59</td>\n      <td>99.68</td>\n      <td>5881.12</td>\n      <td>117.001524</td>\n    </tr>\n    <tr>\n      <td>7</td>\n      <td>Denver Nuggets</td>\n      <td>58</td>\n      <td>97.59</td>\n      <td>5660.22</td>\n      <td>113.387819</td>\n    </tr>\n    <tr>\n      <td>8</td>\n      <td>Detroit Pistons</td>\n      <td>60</td>\n      <td>98.22</td>\n      <td>5893.20</td>\n      <td>109.668771</td>\n    </tr>\n    <tr>\n      <td>9</td>\n      <td>Golden State Warriors</td>\n      <td>58</td>\n      <td>101.16</td>\n      <td>5867.28</td>\n      <td>104.767456</td>\n    </tr>\n    <tr>\n      <td>10</td>\n      <td>Houston Rockets</td>\n      <td>58</td>\n      <td>103.87</td>\n      <td>6024.46</td>\n      <td>114.516488</td>\n    </tr>\n    <tr>\n      <td>11</td>\n      <td>Indiana Pacers</td>\n      <td>58</td>\n      <td>98.87</td>\n      <td>5734.46</td>\n      <td>110.577108</td>\n    </tr>\n    <tr>\n      <td>12</td>\n      <td>LA Clippers</td>\n      <td>58</td>\n      <td>102.64</td>\n      <td>5953.12</td>\n      <td>112.630016</td>\n    </tr>\n    <tr>\n      <td>13</td>\n      <td>Los Angeles Lakers</td>\n      <td>56</td>\n      <td>100.99</td>\n      <td>5655.44</td>\n      <td>113.695840</td>\n    </tr>\n    <tr>\n      <td>14</td>\n      <td>Memphis Grizzlies</td>\n      <td>58</td>\n      <td>103.56</td>\n      <td>6006.48</td>\n      <td>108.882407</td>\n    </tr>\n    <tr>\n      <td>15</td>\n      <td>Miami Heat</td>\n      <td>58</td>\n      <td>98.71</td>\n      <td>5725.18</td>\n      <td>113.970216</td>\n    </tr>\n    <tr>\n      <td>16</td>\n      <td>Milwaukee Bucks</td>\n      <td>58</td>\n      <td>105.38</td>\n      <td>6112.04</td>\n      <td>113.693628</td>\n    </tr>\n    <tr>\n      <td>17</td>\n      <td>Minnesota Timberwolves</td>\n      <td>57</td>\n      <td>103.63</td>\n      <td>5906.91</td>\n      <td>109.058713</td>\n    </tr>\n    <tr>\n      <td>18</td>\n      <td>New Orleans Pelicans</td>\n      <td>58</td>\n      <td>103.76</td>\n      <td>6018.08</td>\n      <td>111.646904</td>\n    </tr>\n    <tr>\n      <td>19</td>\n      <td>New York Knicks</td>\n      <td>58</td>\n      <td>99.21</td>\n      <td>5754.18</td>\n      <td>105.540668</td>\n    </tr>\n    <tr>\n      <td>20</td>\n      <td>Oklahoma City Thunder</td>\n      <td>58</td>\n      <td>99.19</td>\n      <td>5753.02</td>\n      <td>112.149793</td>\n    </tr>\n    <tr>\n      <td>21</td>\n      <td>Orlando Magic</td>\n      <td>58</td>\n      <td>98.31</td>\n      <td>5701.98</td>\n      <td>106.401636</td>\n    </tr>\n    <tr>\n      <td>22</td>\n      <td>Philadelphia 76ers</td>\n      <td>59</td>\n      <td>99.71</td>\n      <td>5882.89</td>\n      <td>108.926055</td>\n    </tr>\n    <tr>\n      <td>23</td>\n      <td>Phoenix Suns</td>\n      <td>59</td>\n      <td>101.85</td>\n      <td>6009.15</td>\n      <td>110.165331</td>\n    </tr>\n    <tr>\n      <td>24</td>\n      <td>Portland Trail Blazers</td>\n      <td>59</td>\n      <td>101.26</td>\n      <td>5974.34</td>\n      <td>111.794776</td>\n    </tr>\n    <tr>\n      <td>25</td>\n      <td>Sacramento Kings</td>\n      <td>57</td>\n      <td>98.93</td>\n      <td>5639.01</td>\n      <td>109.593705</td>\n    </tr>\n    <tr>\n      <td>26</td>\n      <td>San Antonio Spurs</td>\n      <td>57</td>\n      <td>100.62</td>\n      <td>5735.34</td>\n      <td>112.146795</td>\n    </tr>\n    <tr>\n      <td>27</td>\n      <td>Toronto Raptors</td>\n      <td>58</td>\n      <td>100.84</td>\n      <td>5848.72</td>\n      <td>112.058707</td>\n    </tr>\n    <tr>\n      <td>28</td>\n      <td>Utah Jazz</td>\n      <td>58</td>\n      <td>99.24</td>\n      <td>5755.92</td>\n      <td>111.832687</td>\n    </tr>\n    <tr>\n      <td>29</td>\n      <td>Washington Wizards</td>\n      <td>57</td>\n      <td>103.67</td>\n      <td>5909.19</td>\n      <td>111.639666</td>\n    </tr>\n  </tbody>\n</table>\n</div>",
      "text/plain": "                 TEAM_NAME  GP    PACE  tot_poss      offrtg\n0            Atlanta Hawks  60  103.44   6206.40  107.034674\n1           Boston Celtics  58  100.00   5800.00  113.413793\n2            Brooklyn Nets  57  101.58   5790.06  108.755350\n3        Charlotte Hornets  58   96.66   5606.28  105.827750\n4            Chicago Bulls  59  100.57   5933.63  106.107054\n5      Cleveland Cavaliers  58   99.24   5755.92  107.402466\n6         Dallas Mavericks  59   99.68   5881.12  117.001524\n7           Denver Nuggets  58   97.59   5660.22  113.387819\n8          Detroit Pistons  60   98.22   5893.20  109.668771\n9    Golden State Warriors  58  101.16   5867.28  104.767456\n10         Houston Rockets  58  103.87   6024.46  114.516488\n11          Indiana Pacers  58   98.87   5734.46  110.577108\n12             LA Clippers  58  102.64   5953.12  112.630016\n13      Los Angeles Lakers  56  100.99   5655.44  113.695840\n14       Memphis Grizzlies  58  103.56   6006.48  108.882407\n15              Miami Heat  58   98.71   5725.18  113.970216\n16         Milwaukee Bucks  58  105.38   6112.04  113.693628\n17  Minnesota Timberwolves  57  103.63   5906.91  109.058713\n18    New Orleans Pelicans  58  103.76   6018.08  111.646904\n19         New York Knicks  58   99.21   5754.18  105.540668\n20   Oklahoma City Thunder  58   99.19   5753.02  112.149793\n21           Orlando Magic  58   98.31   5701.98  106.401636\n22      Philadelphia 76ers  59   99.71   5882.89  108.926055\n23            Phoenix Suns  59  101.85   6009.15  110.165331\n24  Portland Trail Blazers  59  101.26   5974.34  111.794776\n25        Sacramento Kings  57   98.93   5639.01  109.593705\n26       San Antonio Spurs  57  100.62   5735.34  112.146795\n27         Toronto Raptors  58  100.84   5848.72  112.058707\n28               Utah Jazz  58   99.24   5755.92  111.832687\n29      Washington Wizards  57  103.67   5909.19  111.639666"
     },
     "execution_count": 34,
     "metadata": {},
     "output_type": "execute_result"
    }
   ],
   "source": [
    "calc_team_poss_df"
   ]
  },
  {
   "cell_type": "code",
   "execution_count": 35,
   "metadata": {},
   "outputs": [
    {
     "data": {
      "text/html": "<div>\n<style scoped>\n    .dataframe tbody tr th:only-of-type {\n        vertical-align: middle;\n    }\n\n    .dataframe tbody tr th {\n        vertical-align: top;\n    }\n\n    .dataframe thead th {\n        text-align: right;\n    }\n</style>\n<table border=\"1\" class=\"dataframe\">\n  <thead>\n    <tr style=\"text-align: right;\">\n      <th></th>\n      <th>TEAM_NAME</th>\n      <th>OFF_RATING</th>\n    </tr>\n  </thead>\n  <tbody>\n    <tr>\n      <td>0</td>\n      <td>Atlanta Hawks</td>\n      <td>106.2</td>\n    </tr>\n    <tr>\n      <td>1</td>\n      <td>Boston Celtics</td>\n      <td>112.8</td>\n    </tr>\n    <tr>\n      <td>2</td>\n      <td>Brooklyn Nets</td>\n      <td>107.4</td>\n    </tr>\n    <tr>\n      <td>3</td>\n      <td>Charlotte Hornets</td>\n      <td>105.1</td>\n    </tr>\n    <tr>\n      <td>4</td>\n      <td>Chicago Bulls</td>\n      <td>105.5</td>\n    </tr>\n    <tr>\n      <td>5</td>\n      <td>Cleveland Cavaliers</td>\n      <td>106.7</td>\n    </tr>\n    <tr>\n      <td>6</td>\n      <td>Dallas Mavericks</td>\n      <td>116.3</td>\n    </tr>\n    <tr>\n      <td>7</td>\n      <td>Denver Nuggets</td>\n      <td>112.2</td>\n    </tr>\n    <tr>\n      <td>8</td>\n      <td>Detroit Pistons</td>\n      <td>108.8</td>\n    </tr>\n    <tr>\n      <td>9</td>\n      <td>Golden State Warriors</td>\n      <td>103.7</td>\n    </tr>\n    <tr>\n      <td>10</td>\n      <td>Houston Rockets</td>\n      <td>114.0</td>\n    </tr>\n    <tr>\n      <td>11</td>\n      <td>Indiana Pacers</td>\n      <td>109.8</td>\n    </tr>\n    <tr>\n      <td>12</td>\n      <td>LA Clippers</td>\n      <td>112.1</td>\n    </tr>\n    <tr>\n      <td>13</td>\n      <td>Los Angeles Lakers</td>\n      <td>113.2</td>\n    </tr>\n    <tr>\n      <td>14</td>\n      <td>Memphis Grizzlies</td>\n      <td>108.8</td>\n    </tr>\n    <tr>\n      <td>15</td>\n      <td>Miami Heat</td>\n      <td>112.0</td>\n    </tr>\n    <tr>\n      <td>16</td>\n      <td>Milwaukee Bucks</td>\n      <td>113.3</td>\n    </tr>\n    <tr>\n      <td>17</td>\n      <td>Minnesota Timberwolves</td>\n      <td>107.5</td>\n    </tr>\n    <tr>\n      <td>18</td>\n      <td>New Orleans Pelicans</td>\n      <td>110.5</td>\n    </tr>\n    <tr>\n      <td>19</td>\n      <td>New York Knicks</td>\n      <td>104.8</td>\n    </tr>\n    <tr>\n      <td>20</td>\n      <td>Oklahoma City Thunder</td>\n      <td>111.3</td>\n    </tr>\n    <tr>\n      <td>21</td>\n      <td>Orlando Magic</td>\n      <td>106.0</td>\n    </tr>\n    <tr>\n      <td>22</td>\n      <td>Philadelphia 76ers</td>\n      <td>108.3</td>\n    </tr>\n    <tr>\n      <td>23</td>\n      <td>Phoenix Suns</td>\n      <td>109.7</td>\n    </tr>\n    <tr>\n      <td>24</td>\n      <td>Portland Trail Blazers</td>\n      <td>111.4</td>\n    </tr>\n    <tr>\n      <td>25</td>\n      <td>Sacramento Kings</td>\n      <td>108.5</td>\n    </tr>\n    <tr>\n      <td>26</td>\n      <td>San Antonio Spurs</td>\n      <td>111.0</td>\n    </tr>\n    <tr>\n      <td>27</td>\n      <td>Toronto Raptors</td>\n      <td>111.3</td>\n    </tr>\n    <tr>\n      <td>28</td>\n      <td>Utah Jazz</td>\n      <td>111.7</td>\n    </tr>\n    <tr>\n      <td>29</td>\n      <td>Washington Wizards</td>\n      <td>111.1</td>\n    </tr>\n  </tbody>\n</table>\n</div>",
      "text/plain": "                 TEAM_NAME  OFF_RATING\n0            Atlanta Hawks       106.2\n1           Boston Celtics       112.8\n2            Brooklyn Nets       107.4\n3        Charlotte Hornets       105.1\n4            Chicago Bulls       105.5\n5      Cleveland Cavaliers       106.7\n6         Dallas Mavericks       116.3\n7           Denver Nuggets       112.2\n8          Detroit Pistons       108.8\n9    Golden State Warriors       103.7\n10         Houston Rockets       114.0\n11          Indiana Pacers       109.8\n12             LA Clippers       112.1\n13      Los Angeles Lakers       113.2\n14       Memphis Grizzlies       108.8\n15              Miami Heat       112.0\n16         Milwaukee Bucks       113.3\n17  Minnesota Timberwolves       107.5\n18    New Orleans Pelicans       110.5\n19         New York Knicks       104.8\n20   Oklahoma City Thunder       111.3\n21           Orlando Magic       106.0\n22      Philadelphia 76ers       108.3\n23            Phoenix Suns       109.7\n24  Portland Trail Blazers       111.4\n25        Sacramento Kings       108.5\n26       San Antonio Spurs       111.0\n27         Toronto Raptors       111.3\n28               Utah Jazz       111.7\n29      Washington Wizards       111.1"
     },
     "execution_count": 35,
     "metadata": {},
     "output_type": "execute_result"
    }
   ],
   "source": [
    "team_adv_df[['TEAM_NAME', 'OFF_RATING']]"
   ]
  },
  {
   "cell_type": "code",
   "execution_count": 36,
   "metadata": {},
   "outputs": [],
   "source": [
    "calc_team_poss_df['defrtg'] = team_opp_tot_df.OPP_PTS / calc_team_poss_df.tot_poss * 100"
   ]
  },
  {
   "cell_type": "code",
   "execution_count": 37,
   "metadata": {},
   "outputs": [
    {
     "data": {
      "text/html": "<div>\n<style scoped>\n    .dataframe tbody tr th:only-of-type {\n        vertical-align: middle;\n    }\n\n    .dataframe tbody tr th {\n        vertical-align: top;\n    }\n\n    .dataframe thead th {\n        text-align: right;\n    }\n</style>\n<table border=\"1\" class=\"dataframe\">\n  <thead>\n    <tr style=\"text-align: right;\">\n      <th></th>\n      <th>TEAM_NAME</th>\n      <th>GP</th>\n      <th>PACE</th>\n      <th>tot_poss</th>\n      <th>offrtg</th>\n      <th>defrtg</th>\n    </tr>\n  </thead>\n  <tbody>\n    <tr>\n      <td>0</td>\n      <td>Atlanta Hawks</td>\n      <td>60</td>\n      <td>103.44</td>\n      <td>6206.40</td>\n      <td>107.034674</td>\n      <td>115.203661</td>\n    </tr>\n    <tr>\n      <td>1</td>\n      <td>Boston Celtics</td>\n      <td>58</td>\n      <td>100.00</td>\n      <td>5800.00</td>\n      <td>113.413793</td>\n      <td>106.482759</td>\n    </tr>\n    <tr>\n      <td>2</td>\n      <td>Brooklyn Nets</td>\n      <td>57</td>\n      <td>101.58</td>\n      <td>5790.06</td>\n      <td>108.755350</td>\n      <td>108.910788</td>\n    </tr>\n    <tr>\n      <td>3</td>\n      <td>Charlotte Hornets</td>\n      <td>58</td>\n      <td>96.66</td>\n      <td>5606.28</td>\n      <td>105.827750</td>\n      <td>113.783115</td>\n    </tr>\n    <tr>\n      <td>4</td>\n      <td>Chicago Bulls</td>\n      <td>59</td>\n      <td>100.57</td>\n      <td>5933.63</td>\n      <td>106.107054</td>\n      <td>109.157463</td>\n    </tr>\n    <tr>\n      <td>5</td>\n      <td>Cleveland Cavaliers</td>\n      <td>58</td>\n      <td>99.24</td>\n      <td>5755.92</td>\n      <td>107.402466</td>\n      <td>115.620092</td>\n    </tr>\n    <tr>\n      <td>6</td>\n      <td>Dallas Mavericks</td>\n      <td>59</td>\n      <td>99.68</td>\n      <td>5881.12</td>\n      <td>117.001524</td>\n      <td>110.829230</td>\n    </tr>\n    <tr>\n      <td>7</td>\n      <td>Denver Nuggets</td>\n      <td>58</td>\n      <td>97.59</td>\n      <td>5660.22</td>\n      <td>113.387819</td>\n      <td>109.430375</td>\n    </tr>\n    <tr>\n      <td>8</td>\n      <td>Detroit Pistons</td>\n      <td>60</td>\n      <td>98.22</td>\n      <td>5893.20</td>\n      <td>109.668771</td>\n      <td>112.858888</td>\n    </tr>\n    <tr>\n      <td>9</td>\n      <td>Golden State Warriors</td>\n      <td>58</td>\n      <td>101.16</td>\n      <td>5867.28</td>\n      <td>104.767456</td>\n      <td>113.732428</td>\n    </tr>\n    <tr>\n      <td>10</td>\n      <td>Houston Rockets</td>\n      <td>58</td>\n      <td>103.87</td>\n      <td>6024.46</td>\n      <td>114.516488</td>\n      <td>109.885367</td>\n    </tr>\n    <tr>\n      <td>11</td>\n      <td>Indiana Pacers</td>\n      <td>58</td>\n      <td>98.87</td>\n      <td>5734.46</td>\n      <td>110.577108</td>\n      <td>108.501934</td>\n    </tr>\n    <tr>\n      <td>12</td>\n      <td>LA Clippers</td>\n      <td>58</td>\n      <td>102.64</td>\n      <td>5953.12</td>\n      <td>112.630016</td>\n      <td>106.969119</td>\n    </tr>\n    <tr>\n      <td>13</td>\n      <td>Los Angeles Lakers</td>\n      <td>56</td>\n      <td>100.99</td>\n      <td>5655.44</td>\n      <td>113.695840</td>\n      <td>106.340090</td>\n    </tr>\n    <tr>\n      <td>14</td>\n      <td>Memphis Grizzlies</td>\n      <td>58</td>\n      <td>103.56</td>\n      <td>6006.48</td>\n      <td>108.882407</td>\n      <td>111.379710</td>\n    </tr>\n    <tr>\n      <td>15</td>\n      <td>Miami Heat</td>\n      <td>58</td>\n      <td>98.71</td>\n      <td>5725.18</td>\n      <td>113.970216</td>\n      <td>110.721410</td>\n    </tr>\n    <tr>\n      <td>16</td>\n      <td>Milwaukee Bucks</td>\n      <td>58</td>\n      <td>105.38</td>\n      <td>6112.04</td>\n      <td>113.693628</td>\n      <td>102.093573</td>\n    </tr>\n    <tr>\n      <td>17</td>\n      <td>Minnesota Timberwolves</td>\n      <td>57</td>\n      <td>103.63</td>\n      <td>5906.91</td>\n      <td>109.058713</td>\n      <td>112.833952</td>\n    </tr>\n    <tr>\n      <td>18</td>\n      <td>New Orleans Pelicans</td>\n      <td>58</td>\n      <td>103.76</td>\n      <td>6018.08</td>\n      <td>111.646904</td>\n      <td>112.760216</td>\n    </tr>\n    <tr>\n      <td>19</td>\n      <td>New York Knicks</td>\n      <td>58</td>\n      <td>99.21</td>\n      <td>5754.18</td>\n      <td>105.540668</td>\n      <td>112.631166</td>\n    </tr>\n    <tr>\n      <td>20</td>\n      <td>Oklahoma City Thunder</td>\n      <td>58</td>\n      <td>99.19</td>\n      <td>5753.02</td>\n      <td>112.149793</td>\n      <td>108.951472</td>\n    </tr>\n    <tr>\n      <td>21</td>\n      <td>Orlando Magic</td>\n      <td>58</td>\n      <td>98.31</td>\n      <td>5701.98</td>\n      <td>106.401636</td>\n      <td>107.909884</td>\n    </tr>\n    <tr>\n      <td>22</td>\n      <td>Philadelphia 76ers</td>\n      <td>59</td>\n      <td>99.71</td>\n      <td>5882.89</td>\n      <td>108.926055</td>\n      <td>106.835246</td>\n    </tr>\n    <tr>\n      <td>23</td>\n      <td>Phoenix Suns</td>\n      <td>59</td>\n      <td>101.85</td>\n      <td>6009.15</td>\n      <td>110.165331</td>\n      <td>111.247015</td>\n    </tr>\n    <tr>\n      <td>24</td>\n      <td>Portland Trail Blazers</td>\n      <td>59</td>\n      <td>101.26</td>\n      <td>5974.34</td>\n      <td>111.794776</td>\n      <td>113.903795</td>\n    </tr>\n    <tr>\n      <td>25</td>\n      <td>Sacramento Kings</td>\n      <td>57</td>\n      <td>98.93</td>\n      <td>5639.01</td>\n      <td>109.593705</td>\n      <td>111.810406</td>\n    </tr>\n    <tr>\n      <td>26</td>\n      <td>San Antonio Spurs</td>\n      <td>57</td>\n      <td>100.62</td>\n      <td>5735.34</td>\n      <td>112.146795</td>\n      <td>113.820628</td>\n    </tr>\n    <tr>\n      <td>27</td>\n      <td>Toronto Raptors</td>\n      <td>58</td>\n      <td>100.84</td>\n      <td>5848.72</td>\n      <td>112.058707</td>\n      <td>105.219604</td>\n    </tr>\n    <tr>\n      <td>28</td>\n      <td>Utah Jazz</td>\n      <td>58</td>\n      <td>99.24</td>\n      <td>5755.92</td>\n      <td>111.832687</td>\n      <td>108.879206</td>\n    </tr>\n    <tr>\n      <td>29</td>\n      <td>Washington Wizards</td>\n      <td>57</td>\n      <td>103.67</td>\n      <td>5909.19</td>\n      <td>111.639666</td>\n      <td>115.650368</td>\n    </tr>\n  </tbody>\n</table>\n</div>",
      "text/plain": "                 TEAM_NAME  GP    PACE  tot_poss      offrtg      defrtg\n0            Atlanta Hawks  60  103.44   6206.40  107.034674  115.203661\n1           Boston Celtics  58  100.00   5800.00  113.413793  106.482759\n2            Brooklyn Nets  57  101.58   5790.06  108.755350  108.910788\n3        Charlotte Hornets  58   96.66   5606.28  105.827750  113.783115\n4            Chicago Bulls  59  100.57   5933.63  106.107054  109.157463\n5      Cleveland Cavaliers  58   99.24   5755.92  107.402466  115.620092\n6         Dallas Mavericks  59   99.68   5881.12  117.001524  110.829230\n7           Denver Nuggets  58   97.59   5660.22  113.387819  109.430375\n8          Detroit Pistons  60   98.22   5893.20  109.668771  112.858888\n9    Golden State Warriors  58  101.16   5867.28  104.767456  113.732428\n10         Houston Rockets  58  103.87   6024.46  114.516488  109.885367\n11          Indiana Pacers  58   98.87   5734.46  110.577108  108.501934\n12             LA Clippers  58  102.64   5953.12  112.630016  106.969119\n13      Los Angeles Lakers  56  100.99   5655.44  113.695840  106.340090\n14       Memphis Grizzlies  58  103.56   6006.48  108.882407  111.379710\n15              Miami Heat  58   98.71   5725.18  113.970216  110.721410\n16         Milwaukee Bucks  58  105.38   6112.04  113.693628  102.093573\n17  Minnesota Timberwolves  57  103.63   5906.91  109.058713  112.833952\n18    New Orleans Pelicans  58  103.76   6018.08  111.646904  112.760216\n19         New York Knicks  58   99.21   5754.18  105.540668  112.631166\n20   Oklahoma City Thunder  58   99.19   5753.02  112.149793  108.951472\n21           Orlando Magic  58   98.31   5701.98  106.401636  107.909884\n22      Philadelphia 76ers  59   99.71   5882.89  108.926055  106.835246\n23            Phoenix Suns  59  101.85   6009.15  110.165331  111.247015\n24  Portland Trail Blazers  59  101.26   5974.34  111.794776  113.903795\n25        Sacramento Kings  57   98.93   5639.01  109.593705  111.810406\n26       San Antonio Spurs  57  100.62   5735.34  112.146795  113.820628\n27         Toronto Raptors  58  100.84   5848.72  112.058707  105.219604\n28               Utah Jazz  58   99.24   5755.92  111.832687  108.879206\n29      Washington Wizards  57  103.67   5909.19  111.639666  115.650368"
     },
     "execution_count": 37,
     "metadata": {},
     "output_type": "execute_result"
    }
   ],
   "source": [
    "calc_team_poss_df"
   ]
  },
  {
   "cell_type": "code",
   "execution_count": 38,
   "metadata": {},
   "outputs": [
    {
     "data": {
      "text/html": "<div>\n<style scoped>\n    .dataframe tbody tr th:only-of-type {\n        vertical-align: middle;\n    }\n\n    .dataframe tbody tr th {\n        vertical-align: top;\n    }\n\n    .dataframe thead th {\n        text-align: right;\n    }\n</style>\n<table border=\"1\" class=\"dataframe\">\n  <thead>\n    <tr style=\"text-align: right;\">\n      <th></th>\n      <th>TEAM_NAME</th>\n      <th>DEF_RATING</th>\n    </tr>\n  </thead>\n  <tbody>\n    <tr>\n      <td>0</td>\n      <td>Atlanta Hawks</td>\n      <td>114.2</td>\n    </tr>\n    <tr>\n      <td>1</td>\n      <td>Boston Celtics</td>\n      <td>105.9</td>\n    </tr>\n    <tr>\n      <td>2</td>\n      <td>Brooklyn Nets</td>\n      <td>107.5</td>\n    </tr>\n    <tr>\n      <td>3</td>\n      <td>Charlotte Hornets</td>\n      <td>113.0</td>\n    </tr>\n    <tr>\n      <td>4</td>\n      <td>Chicago Bulls</td>\n      <td>108.6</td>\n    </tr>\n    <tr>\n      <td>5</td>\n      <td>Cleveland Cavaliers</td>\n      <td>114.8</td>\n    </tr>\n    <tr>\n      <td>6</td>\n      <td>Dallas Mavericks</td>\n      <td>110.4</td>\n    </tr>\n    <tr>\n      <td>7</td>\n      <td>Denver Nuggets</td>\n      <td>108.2</td>\n    </tr>\n    <tr>\n      <td>8</td>\n      <td>Detroit Pistons</td>\n      <td>111.8</td>\n    </tr>\n    <tr>\n      <td>9</td>\n      <td>Golden State Warriors</td>\n      <td>112.8</td>\n    </tr>\n    <tr>\n      <td>10</td>\n      <td>Houston Rockets</td>\n      <td>109.6</td>\n    </tr>\n    <tr>\n      <td>11</td>\n      <td>Indiana Pacers</td>\n      <td>107.7</td>\n    </tr>\n    <tr>\n      <td>12</td>\n      <td>LA Clippers</td>\n      <td>106.3</td>\n    </tr>\n    <tr>\n      <td>13</td>\n      <td>Los Angeles Lakers</td>\n      <td>106.0</td>\n    </tr>\n    <tr>\n      <td>14</td>\n      <td>Memphis Grizzlies</td>\n      <td>111.1</td>\n    </tr>\n    <tr>\n      <td>15</td>\n      <td>Miami Heat</td>\n      <td>109.1</td>\n    </tr>\n    <tr>\n      <td>16</td>\n      <td>Milwaukee Bucks</td>\n      <td>101.7</td>\n    </tr>\n    <tr>\n      <td>17</td>\n      <td>Minnesota Timberwolves</td>\n      <td>111.2</td>\n    </tr>\n    <tr>\n      <td>18</td>\n      <td>New Orleans Pelicans</td>\n      <td>111.9</td>\n    </tr>\n    <tr>\n      <td>19</td>\n      <td>New York Knicks</td>\n      <td>111.8</td>\n    </tr>\n    <tr>\n      <td>20</td>\n      <td>Oklahoma City Thunder</td>\n      <td>108.2</td>\n    </tr>\n    <tr>\n      <td>21</td>\n      <td>Orlando Magic</td>\n      <td>107.9</td>\n    </tr>\n    <tr>\n      <td>22</td>\n      <td>Philadelphia 76ers</td>\n      <td>106.3</td>\n    </tr>\n    <tr>\n      <td>23</td>\n      <td>Phoenix Suns</td>\n      <td>110.5</td>\n    </tr>\n    <tr>\n      <td>24</td>\n      <td>Portland Trail Blazers</td>\n      <td>113.5</td>\n    </tr>\n    <tr>\n      <td>25</td>\n      <td>Sacramento Kings</td>\n      <td>110.5</td>\n    </tr>\n    <tr>\n      <td>26</td>\n      <td>San Antonio Spurs</td>\n      <td>112.5</td>\n    </tr>\n    <tr>\n      <td>27</td>\n      <td>Toronto Raptors</td>\n      <td>104.5</td>\n    </tr>\n    <tr>\n      <td>28</td>\n      <td>Utah Jazz</td>\n      <td>108.6</td>\n    </tr>\n    <tr>\n      <td>29</td>\n      <td>Washington Wizards</td>\n      <td>115.0</td>\n    </tr>\n  </tbody>\n</table>\n</div>",
      "text/plain": "                 TEAM_NAME  DEF_RATING\n0            Atlanta Hawks       114.2\n1           Boston Celtics       105.9\n2            Brooklyn Nets       107.5\n3        Charlotte Hornets       113.0\n4            Chicago Bulls       108.6\n5      Cleveland Cavaliers       114.8\n6         Dallas Mavericks       110.4\n7           Denver Nuggets       108.2\n8          Detroit Pistons       111.8\n9    Golden State Warriors       112.8\n10         Houston Rockets       109.6\n11          Indiana Pacers       107.7\n12             LA Clippers       106.3\n13      Los Angeles Lakers       106.0\n14       Memphis Grizzlies       111.1\n15              Miami Heat       109.1\n16         Milwaukee Bucks       101.7\n17  Minnesota Timberwolves       111.2\n18    New Orleans Pelicans       111.9\n19         New York Knicks       111.8\n20   Oklahoma City Thunder       108.2\n21           Orlando Magic       107.9\n22      Philadelphia 76ers       106.3\n23            Phoenix Suns       110.5\n24  Portland Trail Blazers       113.5\n25        Sacramento Kings       110.5\n26       San Antonio Spurs       112.5\n27         Toronto Raptors       104.5\n28               Utah Jazz       108.6\n29      Washington Wizards       115.0"
     },
     "execution_count": 38,
     "metadata": {},
     "output_type": "execute_result"
    }
   ],
   "source": [
    "team_adv_df[['TEAM_NAME', 'DEF_RATING']]"
   ]
  },
  {
   "cell_type": "markdown",
   "metadata": {},
   "source": [
    "# Calculate Player Ratings"
   ]
  },
  {
   "cell_type": "markdown",
   "metadata": {},
   "source": [
    "## Offensive  "
   ]
  },
  {
   "cell_type": "code",
   "execution_count": 39,
   "metadata": {},
   "outputs": [
    {
     "data": {
      "text/plain": "Index(['Unnamed: 0', 'PLAYER_ID', 'PLAYER_NAME', 'TEAM_ID',\n       'TEAM_ABBREVIATION', 'AGE', 'GP', 'W', 'L', 'W_PCT', 'MIN',\n       'E_OFF_RATING', 'OFF_RATING', 'sp_work_OFF_RATING', 'E_DEF_RATING',\n       'DEF_RATING', 'sp_work_DEF_RATING', 'E_NET_RATING', 'NET_RATING',\n       'sp_work_NET_RATING', 'AST_PCT', 'AST_TO', 'AST_RATIO', 'OREB_PCT',\n       'DREB_PCT', 'REB_PCT', 'TM_TOV_PCT', 'E_TOV_PCT', 'EFG_PCT', 'TS_PCT',\n       'USG_PCT', 'E_USG_PCT', 'E_PACE', 'PACE', 'PACE_PER40', 'sp_work_PACE',\n       'PIE', 'POSS', 'FGM', 'FGA', 'FGM_PG', 'FGA_PG', 'FG_PCT', 'GP_RANK',\n       'W_RANK', 'L_RANK', 'W_PCT_RANK', 'MIN_RANK', 'E_OFF_RATING_RANK',\n       'OFF_RATING_RANK', 'sp_work_OFF_RATING_RANK', 'E_DEF_RATING_RANK',\n       'DEF_RATING_RANK', 'sp_work_DEF_RATING_RANK', 'E_NET_RATING_RANK',\n       'NET_RATING_RANK', 'sp_work_NET_RATING_RANK', 'AST_PCT_RANK',\n       'AST_TO_RANK', 'AST_RATIO_RANK', 'OREB_PCT_RANK', 'DREB_PCT_RANK',\n       'REB_PCT_RANK', 'TM_TOV_PCT_RANK', 'E_TOV_PCT_RANK', 'EFG_PCT_RANK',\n       'TS_PCT_RANK', 'USG_PCT_RANK', 'E_USG_PCT_RANK', 'E_PACE_RANK',\n       'PACE_RANK', 'sp_work_PACE_RANK', 'PIE_RANK', 'FGM_RANK', 'FGA_RANK',\n       'FGM_PG_RANK', 'FGA_PG_RANK', 'FG_PCT_RANK', 'CFID', 'CFPARAMS'],\n      dtype='object')"
     },
     "execution_count": 39,
     "metadata": {},
     "output_type": "execute_result"
    }
   ],
   "source": [
    "player_adv_df.columns"
   ]
  },
  {
   "cell_type": "code",
   "execution_count": 40,
   "metadata": {},
   "outputs": [],
   "source": [
    "calc_players_df = player_adv_df[['PLAYER_NAME', 'PACE']].copy()"
   ]
  },
  {
   "cell_type": "code",
   "execution_count": 67,
   "metadata": {},
   "outputs": [],
   "source": [
    "calc_players_df['tot_poss'] = player_tot_df.MIN * (player_adv_df.PACE/48)"
   ]
  },
  {
   "cell_type": "code",
   "execution_count": 70,
   "metadata": {},
   "outputs": [],
   "source": [
    "calc_players_df['tot_poss'] = player_adv_df.MIN * (player_adv_df.PACE/48) * player_adv_df.GP"
   ]
  },
  {
   "cell_type": "code",
   "execution_count": 71,
   "metadata": {},
   "outputs": [],
   "source": [
    "calc_players_df['offrtg'] = player_tot_df.PTS / calc_players_df.tot_poss * 100"
   ]
  },
  {
   "cell_type": "code",
   "execution_count": 72,
   "metadata": {},
   "outputs": [
    {
     "data": {
      "text/html": "<div>\n<style scoped>\n    .dataframe tbody tr th:only-of-type {\n        vertical-align: middle;\n    }\n\n    .dataframe tbody tr th {\n        vertical-align: top;\n    }\n\n    .dataframe thead th {\n        text-align: right;\n    }\n</style>\n<table border=\"1\" class=\"dataframe\">\n  <thead>\n    <tr style=\"text-align: right;\">\n      <th></th>\n      <th>PLAYER_NAME</th>\n      <th>PACE</th>\n      <th>tot_poss</th>\n      <th>offrtg</th>\n    </tr>\n  </thead>\n  <tbody>\n    <tr>\n      <td>0</td>\n      <td>Aaron Gordon</td>\n      <td>99.07</td>\n      <td>3498.822167</td>\n      <td>21.607271</td>\n    </tr>\n    <tr>\n      <td>1</td>\n      <td>Aaron Holiday</td>\n      <td>99.80</td>\n      <td>2449.466250</td>\n      <td>20.657562</td>\n    </tr>\n    <tr>\n      <td>2</td>\n      <td>Abdel Nader</td>\n      <td>101.60</td>\n      <td>1360.170000</td>\n      <td>18.085975</td>\n    </tr>\n    <tr>\n      <td>3</td>\n      <td>Adam Mokoka</td>\n      <td>102.39</td>\n      <td>163.184063</td>\n      <td>12.256099</td>\n    </tr>\n    <tr>\n      <td>4</td>\n      <td>Admiral Schofield</td>\n      <td>103.17</td>\n      <td>625.898000</td>\n      <td>13.260947</td>\n    </tr>\n    <tr>\n      <td>5</td>\n      <td>Al Horford</td>\n      <td>100.70</td>\n      <td>3466.597500</td>\n      <td>18.086899</td>\n    </tr>\n    <tr>\n      <td>6</td>\n      <td>Al-Farouq Aminu</td>\n      <td>100.15</td>\n      <td>792.436875</td>\n      <td>9.843055</td>\n    </tr>\n    <tr>\n      <td>7</td>\n      <td>Alec Burks</td>\n      <td>102.07</td>\n      <td>3166.934396</td>\n      <td>25.955700</td>\n    </tr>\n    <tr>\n      <td>8</td>\n      <td>Alen Smailagic</td>\n      <td>104.89</td>\n      <td>302.869875</td>\n      <td>19.480313</td>\n    </tr>\n    <tr>\n      <td>9</td>\n      <td>Alex Caruso</td>\n      <td>102.75</td>\n      <td>2053.501563</td>\n      <td>14.414403</td>\n    </tr>\n  </tbody>\n</table>\n</div>",
      "text/plain": "         PLAYER_NAME    PACE     tot_poss     offrtg\n0       Aaron Gordon   99.07  3498.822167  21.607271\n1      Aaron Holiday   99.80  2449.466250  20.657562\n2        Abdel Nader  101.60  1360.170000  18.085975\n3        Adam Mokoka  102.39   163.184063  12.256099\n4  Admiral Schofield  103.17   625.898000  13.260947\n5         Al Horford  100.70  3466.597500  18.086899\n6    Al-Farouq Aminu  100.15   792.436875   9.843055\n7         Alec Burks  102.07  3166.934396  25.955700\n8     Alen Smailagic  104.89   302.869875  19.480313\n9        Alex Caruso  102.75  2053.501563  14.414403"
     },
     "execution_count": 72,
     "metadata": {},
     "output_type": "execute_result"
    }
   ],
   "source": [
    "calc_players_df.head(n=10)"
   ]
  },
  {
   "cell_type": "code",
   "execution_count": 75,
   "metadata": {},
   "outputs": [
    {
     "data": {
      "text/plain": "Index(['Unnamed: 0', 'PLAYER_ID', 'PLAYER_NAME', 'TEAM_ID',\n       'TEAM_ABBREVIATION', 'AGE', 'GP', 'W', 'L', 'W_PCT', 'MIN', 'FGM',\n       'FGA', 'FG_PCT', 'FG3M', 'FG3A', 'FG3_PCT', 'FTM', 'FTA', 'FT_PCT',\n       'OREB', 'DREB', 'REB', 'AST', 'TOV', 'STL', 'BLK', 'BLKA', 'PF', 'PFD',\n       'PTS', 'PLUS_MINUS', 'NBA_FANTASY_PTS', 'DD2', 'TD3', 'GP_RANK',\n       'W_RANK', 'L_RANK', 'W_PCT_RANK', 'MIN_RANK', 'FGM_RANK', 'FGA_RANK',\n       'FG_PCT_RANK', 'FG3M_RANK', 'FG3A_RANK', 'FG3_PCT_RANK', 'FTM_RANK',\n       'FTA_RANK', 'FT_PCT_RANK', 'OREB_RANK', 'DREB_RANK', 'REB_RANK',\n       'AST_RANK', 'TOV_RANK', 'STL_RANK', 'BLK_RANK', 'BLKA_RANK', 'PF_RANK',\n       'PFD_RANK', 'PTS_RANK', 'PLUS_MINUS_RANK', 'NBA_FANTASY_PTS_RANK',\n       'DD2_RANK', 'TD3_RANK', 'CFID', 'CFPARAMS'],\n      dtype='object')"
     },
     "execution_count": 75,
     "metadata": {},
     "output_type": "execute_result"
    }
   ],
   "source": [
    "player_tot_df.columns"
   ]
  },
  {
   "cell_type": "code",
   "execution_count": 76,
   "metadata": {},
   "outputs": [
    {
     "data": {
      "text/plain": "2500"
     },
     "execution_count": 76,
     "metadata": {},
     "output_type": "execute_result"
    }
   ],
   "source": [
    "# aaron gordon, total points scored against him\n",
    "\n",
    "571*2 + 146*2 +107*2 + 19*3 + 35*3 + 230*3"
   ]
  },
  {
   "cell_type": "code",
   "execution_count": 78,
   "metadata": {},
   "outputs": [
    {
     "data": {
      "text/plain": "2382"
     },
     "execution_count": 78,
     "metadata": {},
     "output_type": "execute_result"
    }
   ],
   "source": [
    "-1182500"
   ]
  },
  {
   "cell_type": "code",
   "execution_count": 80,
   "metadata": {},
   "outputs": [
    {
     "data": {
      "text/plain": "2618"
     },
     "execution_count": 80,
     "metadata": {},
     "output_type": "execute_result"
    }
   ],
   "source": [
    "118+2500"
   ]
  },
  {
   "cell_type": "code",
   "execution_count": 81,
   "metadata": {},
   "outputs": [
    {
     "data": {
      "text/plain": "74.82518044764635"
     },
     "execution_count": 81,
     "metadata": {},
     "output_type": "execute_result"
    }
   ],
   "source": [
    "2618/3498.822167 * 100"
   ]
  },
  {
   "cell_type": "code",
   "execution_count": 53,
   "metadata": {},
   "outputs": [
    {
     "data": {
      "text/plain": "0      1696.776667\n1      1178.620000\n2       643.480000\n3        76.416667\n4       291.951667\n          ...     \n505    2047.810000\n506      40.801667\n507      32.331667\n508     369.541667\n509      30.676667\nName: MIN, Length: 510, dtype: float64"
     },
     "execution_count": 53,
     "metadata": {},
     "output_type": "execute_result"
    }
   ],
   "source": [
    "player_tot_df.MIN"
   ]
  },
  {
   "cell_type": "code",
   "execution_count": 51,
   "metadata": {},
   "outputs": [
    {
     "data": {
      "text/html": "<div>\n<style scoped>\n    .dataframe tbody tr th:only-of-type {\n        vertical-align: middle;\n    }\n\n    .dataframe tbody tr th {\n        vertical-align: top;\n    }\n\n    .dataframe thead th {\n        text-align: right;\n    }\n</style>\n<table border=\"1\" class=\"dataframe\">\n  <thead>\n    <tr style=\"text-align: right;\">\n      <th></th>\n      <th>PLAYER_NAME</th>\n      <th>OFF_RATING</th>\n    </tr>\n  </thead>\n  <tbody>\n    <tr>\n      <td>0</td>\n      <td>Aaron Gordon</td>\n      <td>106.6</td>\n    </tr>\n    <tr>\n      <td>1</td>\n      <td>Aaron Holiday</td>\n      <td>110.2</td>\n    </tr>\n    <tr>\n      <td>2</td>\n      <td>Abdel Nader</td>\n      <td>100.4</td>\n    </tr>\n    <tr>\n      <td>3</td>\n      <td>Adam Mokoka</td>\n      <td>115.7</td>\n    </tr>\n    <tr>\n      <td>4</td>\n      <td>Admiral Schofield</td>\n      <td>104.2</td>\n    </tr>\n    <tr>\n      <td>5</td>\n      <td>Al Horford</td>\n      <td>107.3</td>\n    </tr>\n    <tr>\n      <td>6</td>\n      <td>Al-Farouq Aminu</td>\n      <td>94.7</td>\n    </tr>\n    <tr>\n      <td>7</td>\n      <td>Alec Burks</td>\n      <td>101.3</td>\n    </tr>\n    <tr>\n      <td>8</td>\n      <td>Alen Smailagic</td>\n      <td>106.2</td>\n    </tr>\n    <tr>\n      <td>9</td>\n      <td>Alex Caruso</td>\n      <td>111.8</td>\n    </tr>\n  </tbody>\n</table>\n</div>",
      "text/plain": "         PLAYER_NAME  OFF_RATING\n0       Aaron Gordon       106.6\n1      Aaron Holiday       110.2\n2        Abdel Nader       100.4\n3        Adam Mokoka       115.7\n4  Admiral Schofield       104.2\n5         Al Horford       107.3\n6    Al-Farouq Aminu        94.7\n7         Alec Burks       101.3\n8     Alen Smailagic       106.2\n9        Alex Caruso       111.8"
     },
     "execution_count": 51,
     "metadata": {},
     "output_type": "execute_result"
    }
   ],
   "source": [
    "player_adv_df[['PLAYER_NAME', 'OFF_RATING']].head(n=10)"
   ]
  },
  {
   "cell_type": "code",
   "execution_count": 82,
   "metadata": {},
   "outputs": [
    {
     "data": {
      "text/html": "<div>\n<style scoped>\n    .dataframe tbody tr th:only-of-type {\n        vertical-align: middle;\n    }\n\n    .dataframe tbody tr th {\n        vertical-align: top;\n    }\n\n    .dataframe thead th {\n        text-align: right;\n    }\n</style>\n<table border=\"1\" class=\"dataframe\">\n  <thead>\n    <tr style=\"text-align: right;\">\n      <th></th>\n      <th>PLAYER_NAME</th>\n      <th>DEF_RATING</th>\n    </tr>\n  </thead>\n  <tbody>\n    <tr>\n      <td>0</td>\n      <td>Aaron Gordon</td>\n      <td>109.7</td>\n    </tr>\n    <tr>\n      <td>1</td>\n      <td>Aaron Holiday</td>\n      <td>108.1</td>\n    </tr>\n    <tr>\n      <td>2</td>\n      <td>Abdel Nader</td>\n      <td>103.0</td>\n    </tr>\n    <tr>\n      <td>3</td>\n      <td>Adam Mokoka</td>\n      <td>99.4</td>\n    </tr>\n    <tr>\n      <td>4</td>\n      <td>Admiral Schofield</td>\n      <td>108.7</td>\n    </tr>\n    <tr>\n      <td>5</td>\n      <td>Al Horford</td>\n      <td>104.7</td>\n    </tr>\n    <tr>\n      <td>6</td>\n      <td>Al-Farouq Aminu</td>\n      <td>100.1</td>\n    </tr>\n    <tr>\n      <td>7</td>\n      <td>Alec Burks</td>\n      <td>110.6</td>\n    </tr>\n    <tr>\n      <td>8</td>\n      <td>Alen Smailagic</td>\n      <td>109.2</td>\n    </tr>\n    <tr>\n      <td>9</td>\n      <td>Alex Caruso</td>\n      <td>100.0</td>\n    </tr>\n  </tbody>\n</table>\n</div>",
      "text/plain": "         PLAYER_NAME  DEF_RATING\n0       Aaron Gordon       109.7\n1      Aaron Holiday       108.1\n2        Abdel Nader       103.0\n3        Adam Mokoka        99.4\n4  Admiral Schofield       108.7\n5         Al Horford       104.7\n6    Al-Farouq Aminu       100.1\n7         Alec Burks       110.6\n8     Alen Smailagic       109.2\n9        Alex Caruso       100.0"
     },
     "execution_count": 82,
     "metadata": {},
     "output_type": "execute_result"
    }
   ],
   "source": [
    "player_adv_df[['PLAYER_NAME', 'DEF_RATING']].head(n=10)"
   ]
  },
  {
   "cell_type": "code",
   "execution_count": null,
   "metadata": {},
   "outputs": [],
   "source": []
  }
 ]
}