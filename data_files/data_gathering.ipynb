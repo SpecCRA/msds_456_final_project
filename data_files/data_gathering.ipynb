{
 "nbformat": 4,
 "nbformat_minor": 2,
 "metadata": {
  "language_info": {
   "name": "python",
   "codemirror_mode": {
    "name": "ipython",
    "version": 3
   },
   "version": "3.7.4-final"
  },
  "orig_nbformat": 2,
  "file_extension": ".py",
  "mimetype": "text/x-python",
  "name": "python",
  "npconvert_exporter": "python",
  "pygments_lexer": "ipython3",
  "version": 3,
  "kernelspec": {
   "name": "python37464bitbaseconda1e0c91686aae43d9a876dfdafaecff22",
   "display_name": "Python 3.7.4 64-bit ('base': conda)"
  }
 },
 "cells": [
  {
   "cell_type": "code",
   "execution_count": 31,
   "metadata": {},
   "outputs": [],
   "source": [
    "import pandas as pd\n",
    "import numpy as np"
   ]
  },
  {
   "cell_type": "code",
   "execution_count": 32,
   "metadata": {},
   "outputs": [],
   "source": [
    "from nba_api.stats.static import players\n",
    "from nba_api.stats.static import teams"
   ]
  },
  {
   "cell_type": "code",
   "execution_count": 33,
   "metadata": {},
   "outputs": [],
   "source": [
    "curr_season = '2019-20'"
   ]
  },
  {
   "cell_type": "code",
   "execution_count": 34,
   "metadata": {},
   "outputs": [],
   "source": [
    "from nba_api.stats.endpoints import LeagueDashTeamStats"
   ]
  },
  {
   "cell_type": "code",
   "execution_count": 35,
   "metadata": {},
   "outputs": [
    {
     "data": {
      "text/html": "<div>\n<style scoped>\n    .dataframe tbody tr th:only-of-type {\n        vertical-align: middle;\n    }\n\n    .dataframe tbody tr th {\n        vertical-align: top;\n    }\n\n    .dataframe thead th {\n        text-align: right;\n    }\n</style>\n<table border=\"1\" class=\"dataframe\">\n  <thead>\n    <tr style=\"text-align: right;\">\n      <th></th>\n      <th>TEAM_ID</th>\n      <th>TEAM_NAME</th>\n      <th>GP</th>\n      <th>W</th>\n      <th>L</th>\n      <th>W_PCT</th>\n      <th>MIN</th>\n      <th>FGM</th>\n      <th>FGA</th>\n      <th>FG_PCT</th>\n      <th>...</th>\n      <th>TOV_RANK</th>\n      <th>STL_RANK</th>\n      <th>BLK_RANK</th>\n      <th>BLKA_RANK</th>\n      <th>PF_RANK</th>\n      <th>PFD_RANK</th>\n      <th>PTS_RANK</th>\n      <th>PLUS_MINUS_RANK</th>\n      <th>CFID</th>\n      <th>CFPARAMS</th>\n    </tr>\n  </thead>\n  <tbody>\n    <tr>\n      <td>0</td>\n      <td>1610612737</td>\n      <td>Atlanta Hawks</td>\n      <td>60</td>\n      <td>17</td>\n      <td>43</td>\n      <td>0.283</td>\n      <td>2905.0</td>\n      <td>2416</td>\n      <td>5404</td>\n      <td>0.447</td>\n      <td>...</td>\n      <td>30</td>\n      <td>9</td>\n      <td>9</td>\n      <td>30</td>\n      <td>30</td>\n      <td>5</td>\n      <td>7</td>\n      <td>29</td>\n      <td>10</td>\n      <td>Atlanta Hawks</td>\n    </tr>\n    <tr>\n      <td>1</td>\n      <td>1610612738</td>\n      <td>Boston Celtics</td>\n      <td>58</td>\n      <td>41</td>\n      <td>17</td>\n      <td>0.707</td>\n      <td>2799.0</td>\n      <td>2397</td>\n      <td>5167</td>\n      <td>0.464</td>\n      <td>...</td>\n      <td>8</td>\n      <td>10</td>\n      <td>8</td>\n      <td>24</td>\n      <td>22</td>\n      <td>17</td>\n      <td>10</td>\n      <td>3</td>\n      <td>10</td>\n      <td>Boston Celtics</td>\n    </tr>\n    <tr>\n      <td>2</td>\n      <td>1610612751</td>\n      <td>Brooklyn Nets</td>\n      <td>57</td>\n      <td>26</td>\n      <td>31</td>\n      <td>0.456</td>\n      <td>2771.0</td>\n      <td>2283</td>\n      <td>5145</td>\n      <td>0.444</td>\n      <td>...</td>\n      <td>25</td>\n      <td>27</td>\n      <td>22</td>\n      <td>22</td>\n      <td>14</td>\n      <td>18</td>\n      <td>23</td>\n      <td>14</td>\n      <td>10</td>\n      <td>Brooklyn Nets</td>\n    </tr>\n    <tr>\n      <td>3</td>\n      <td>1610612766</td>\n      <td>Charlotte Hornets</td>\n      <td>58</td>\n      <td>20</td>\n      <td>38</td>\n      <td>0.345</td>\n      <td>2804.0</td>\n      <td>2157</td>\n      <td>4997</td>\n      <td>0.432</td>\n      <td>...</td>\n      <td>15</td>\n      <td>26</td>\n      <td>26</td>\n      <td>18</td>\n      <td>5</td>\n      <td>15</td>\n      <td>30</td>\n      <td>27</td>\n      <td>10</td>\n      <td>Charlotte Hornets</td>\n    </tr>\n    <tr>\n      <td>4</td>\n      <td>1610612741</td>\n      <td>Chicago Bulls</td>\n      <td>59</td>\n      <td>20</td>\n      <td>39</td>\n      <td>0.339</td>\n      <td>2847.0</td>\n      <td>2322</td>\n      <td>5212</td>\n      <td>0.446</td>\n      <td>...</td>\n      <td>26</td>\n      <td>1</td>\n      <td>26</td>\n      <td>28</td>\n      <td>25</td>\n      <td>25</td>\n      <td>24</td>\n      <td>22</td>\n      <td>10</td>\n      <td>Chicago Bulls</td>\n    </tr>\n  </tbody>\n</table>\n<p>5 rows × 56 columns</p>\n</div>",
      "text/plain": "      TEAM_ID          TEAM_NAME  GP   W   L  W_PCT     MIN   FGM   FGA  \\\n0  1610612737      Atlanta Hawks  60  17  43  0.283  2905.0  2416  5404   \n1  1610612738     Boston Celtics  58  41  17  0.707  2799.0  2397  5167   \n2  1610612751      Brooklyn Nets  57  26  31  0.456  2771.0  2283  5145   \n3  1610612766  Charlotte Hornets  58  20  38  0.345  2804.0  2157  4997   \n4  1610612741      Chicago Bulls  59  20  39  0.339  2847.0  2322  5212   \n\n   FG_PCT  ...  TOV_RANK  STL_RANK  BLK_RANK  BLKA_RANK  PF_RANK  PFD_RANK  \\\n0   0.447  ...        30         9         9         30       30         5   \n1   0.464  ...         8        10         8         24       22        17   \n2   0.444  ...        25        27        22         22       14        18   \n3   0.432  ...        15        26        26         18        5        15   \n4   0.446  ...        26         1        26         28       25        25   \n\n   PTS_RANK  PLUS_MINUS_RANK  CFID           CFPARAMS  \n0         7               29    10      Atlanta Hawks  \n1        10                3    10     Boston Celtics  \n2        23               14    10      Brooklyn Nets  \n3        30               27    10  Charlotte Hornets  \n4        24               22    10      Chicago Bulls  \n\n[5 rows x 56 columns]"
     },
     "execution_count": 35,
     "metadata": {},
     "output_type": "execute_result"
    }
   ],
   "source": [
    "team_tots_df = LeagueDashTeamStats(season=curr_season,\n",
    "                                    per_mode_detailed='Totals').get_data_frames()[0]\n",
    "\n",
    "team_tots_df.head()"
   ]
  },
  {
   "cell_type": "code",
   "execution_count": 36,
   "metadata": {},
   "outputs": [
    {
     "data": {
      "text/plain": "Index(['TEAM_ID', 'TEAM_NAME', 'GP', 'W', 'L', 'W_PCT', 'MIN', 'FGM', 'FGA',\n       'FG_PCT', 'FG3M', 'FG3A', 'FG3_PCT', 'FTM', 'FTA', 'FT_PCT', 'OREB',\n       'DREB', 'REB', 'AST', 'TOV', 'STL', 'BLK', 'BLKA', 'PF', 'PFD', 'PTS',\n       'PLUS_MINUS', 'GP_RANK', 'W_RANK', 'L_RANK', 'W_PCT_RANK', 'MIN_RANK',\n       'FGM_RANK', 'FGA_RANK', 'FG_PCT_RANK', 'FG3M_RANK', 'FG3A_RANK',\n       'FG3_PCT_RANK', 'FTM_RANK', 'FTA_RANK', 'FT_PCT_RANK', 'OREB_RANK',\n       'DREB_RANK', 'REB_RANK', 'AST_RANK', 'TOV_RANK', 'STL_RANK', 'BLK_RANK',\n       'BLKA_RANK', 'PF_RANK', 'PFD_RANK', 'PTS_RANK', 'PLUS_MINUS_RANK',\n       'CFID', 'CFPARAMS'],\n      dtype='object')"
     },
     "execution_count": 36,
     "metadata": {},
     "output_type": "execute_result"
    }
   ],
   "source": [
    "team_tots_df.columns"
   ]
  },
  {
   "cell_type": "code",
   "execution_count": 37,
   "metadata": {},
   "outputs": [
    {
     "data": {
      "text/html": "<div>\n<style scoped>\n    .dataframe tbody tr th:only-of-type {\n        vertical-align: middle;\n    }\n\n    .dataframe tbody tr th {\n        vertical-align: top;\n    }\n\n    .dataframe thead th {\n        text-align: right;\n    }\n</style>\n<table border=\"1\" class=\"dataframe\">\n  <thead>\n    <tr style=\"text-align: right;\">\n      <th></th>\n      <th>TEAM_ID</th>\n      <th>TEAM_NAME</th>\n      <th>GP</th>\n      <th>W</th>\n      <th>L</th>\n      <th>W_PCT</th>\n      <th>MIN</th>\n      <th>E_OFF_RATING</th>\n      <th>OFF_RATING</th>\n      <th>E_DEF_RATING</th>\n      <th>...</th>\n      <th>OREB_PCT_RANK</th>\n      <th>DREB_PCT_RANK</th>\n      <th>REB_PCT_RANK</th>\n      <th>TM_TOV_PCT_RANK</th>\n      <th>EFG_PCT_RANK</th>\n      <th>TS_PCT_RANK</th>\n      <th>PACE_RANK</th>\n      <th>PIE_RANK</th>\n      <th>CFID</th>\n      <th>CFPARAMS</th>\n    </tr>\n  </thead>\n  <tbody>\n    <tr>\n      <td>0</td>\n      <td>1610612737</td>\n      <td>Atlanta Hawks</td>\n      <td>60</td>\n      <td>17</td>\n      <td>43</td>\n      <td>0.283</td>\n      <td>2905.0</td>\n      <td>103.5</td>\n      <td>106.2</td>\n      <td>111.8</td>\n      <td>...</td>\n      <td>17</td>\n      <td>29</td>\n      <td>28</td>\n      <td>28</td>\n      <td>25</td>\n      <td>22</td>\n      <td>7</td>\n      <td>28</td>\n      <td>10</td>\n      <td>Atlanta Hawks</td>\n    </tr>\n    <tr>\n      <td>1</td>\n      <td>1610612738</td>\n      <td>Boston Celtics</td>\n      <td>58</td>\n      <td>41</td>\n      <td>17</td>\n      <td>0.707</td>\n      <td>2799.0</td>\n      <td>110.7</td>\n      <td>112.8</td>\n      <td>104.0</td>\n      <td>...</td>\n      <td>8</td>\n      <td>11</td>\n      <td>11</td>\n      <td>8</td>\n      <td>10</td>\n      <td>9</td>\n      <td>17</td>\n      <td>3</td>\n      <td>10</td>\n      <td>Boston Celtics</td>\n    </tr>\n    <tr>\n      <td>2</td>\n      <td>1610612751</td>\n      <td>Brooklyn Nets</td>\n      <td>57</td>\n      <td>26</td>\n      <td>31</td>\n      <td>0.456</td>\n      <td>2771.0</td>\n      <td>104.8</td>\n      <td>107.4</td>\n      <td>105.5</td>\n      <td>...</td>\n      <td>6</td>\n      <td>9</td>\n      <td>8</td>\n      <td>25</td>\n      <td>24</td>\n      <td>25</td>\n      <td>10</td>\n      <td>14</td>\n      <td>10</td>\n      <td>Brooklyn Nets</td>\n    </tr>\n    <tr>\n      <td>3</td>\n      <td>1610612766</td>\n      <td>Charlotte Hornets</td>\n      <td>58</td>\n      <td>20</td>\n      <td>38</td>\n      <td>0.345</td>\n      <td>2804.0</td>\n      <td>102.9</td>\n      <td>105.1</td>\n      <td>110.7</td>\n      <td>...</td>\n      <td>9</td>\n      <td>30</td>\n      <td>26</td>\n      <td>24</td>\n      <td>27</td>\n      <td>28</td>\n      <td>30</td>\n      <td>30</td>\n      <td>10</td>\n      <td>Charlotte Hornets</td>\n    </tr>\n    <tr>\n      <td>4</td>\n      <td>1610612741</td>\n      <td>Chicago Bulls</td>\n      <td>59</td>\n      <td>20</td>\n      <td>39</td>\n      <td>0.339</td>\n      <td>2847.0</td>\n      <td>103.7</td>\n      <td>105.5</td>\n      <td>107.5</td>\n      <td>...</td>\n      <td>15</td>\n      <td>21</td>\n      <td>27</td>\n      <td>27</td>\n      <td>23</td>\n      <td>26</td>\n      <td>16</td>\n      <td>25</td>\n      <td>10</td>\n      <td>Chicago Bulls</td>\n    </tr>\n  </tbody>\n</table>\n<p>5 rows × 48 columns</p>\n</div>",
      "text/plain": "      TEAM_ID          TEAM_NAME  GP   W   L  W_PCT     MIN  E_OFF_RATING  \\\n0  1610612737      Atlanta Hawks  60  17  43  0.283  2905.0         103.5   \n1  1610612738     Boston Celtics  58  41  17  0.707  2799.0         110.7   \n2  1610612751      Brooklyn Nets  57  26  31  0.456  2771.0         104.8   \n3  1610612766  Charlotte Hornets  58  20  38  0.345  2804.0         102.9   \n4  1610612741      Chicago Bulls  59  20  39  0.339  2847.0         103.7   \n\n   OFF_RATING  E_DEF_RATING  ...  OREB_PCT_RANK  DREB_PCT_RANK  REB_PCT_RANK  \\\n0       106.2         111.8  ...             17             29            28   \n1       112.8         104.0  ...              8             11            11   \n2       107.4         105.5  ...              6              9             8   \n3       105.1         110.7  ...              9             30            26   \n4       105.5         107.5  ...             15             21            27   \n\n   TM_TOV_PCT_RANK  EFG_PCT_RANK  TS_PCT_RANK  PACE_RANK  PIE_RANK  CFID  \\\n0               28            25           22          7        28    10   \n1                8            10            9         17         3    10   \n2               25            24           25         10        14    10   \n3               24            27           28         30        30    10   \n4               27            23           26         16        25    10   \n\n            CFPARAMS  \n0      Atlanta Hawks  \n1     Boston Celtics  \n2      Brooklyn Nets  \n3  Charlotte Hornets  \n4      Chicago Bulls  \n\n[5 rows x 48 columns]"
     },
     "execution_count": 37,
     "metadata": {},
     "output_type": "execute_result"
    }
   ],
   "source": [
    "team_adv_df = LeagueDashTeamStats(season=curr_season,\n",
    "                                    measure_type_detailed_defense='Advanced').get_data_frames()[0]\n",
    "\n",
    "team_adv_df.head()"
   ]
  },
  {
   "cell_type": "code",
   "execution_count": 38,
   "metadata": {},
   "outputs": [
    {
     "data": {
      "text/plain": "Index(['TEAM_ID', 'TEAM_NAME', 'GP', 'W', 'L', 'W_PCT', 'MIN', 'E_OFF_RATING',\n       'OFF_RATING', 'E_DEF_RATING', 'DEF_RATING', 'E_NET_RATING',\n       'NET_RATING', 'AST_PCT', 'AST_TO', 'AST_RATIO', 'OREB_PCT', 'DREB_PCT',\n       'REB_PCT', 'TM_TOV_PCT', 'EFG_PCT', 'TS_PCT', 'E_PACE', 'PACE',\n       'PACE_PER40', 'POSS', 'PIE', 'GP_RANK', 'W_RANK', 'L_RANK',\n       'W_PCT_RANK', 'MIN_RANK', 'OFF_RATING_RANK', 'DEF_RATING_RANK',\n       'NET_RATING_RANK', 'AST_PCT_RANK', 'AST_TO_RANK', 'AST_RATIO_RANK',\n       'OREB_PCT_RANK', 'DREB_PCT_RANK', 'REB_PCT_RANK', 'TM_TOV_PCT_RANK',\n       'EFG_PCT_RANK', 'TS_PCT_RANK', 'PACE_RANK', 'PIE_RANK', 'CFID',\n       'CFPARAMS'],\n      dtype='object')"
     },
     "execution_count": 38,
     "metadata": {},
     "output_type": "execute_result"
    }
   ],
   "source": [
    "team_adv_df.columns"
   ]
  },
  {
   "cell_type": "code",
   "execution_count": 39,
   "metadata": {},
   "outputs": [],
   "source": [
    "# total possession = pace * games played"
   ]
  },
  {
   "cell_type": "code",
   "execution_count": 40,
   "metadata": {},
   "outputs": [],
   "source": [
    "from nba_api.stats.endpoints import LeagueDashPlayerStats"
   ]
  },
  {
   "cell_type": "code",
   "execution_count": 41,
   "metadata": {},
   "outputs": [
    {
     "data": {
      "text/html": "<div>\n<style scoped>\n    .dataframe tbody tr th:only-of-type {\n        vertical-align: middle;\n    }\n\n    .dataframe tbody tr th {\n        vertical-align: top;\n    }\n\n    .dataframe thead th {\n        text-align: right;\n    }\n</style>\n<table border=\"1\" class=\"dataframe\">\n  <thead>\n    <tr style=\"text-align: right;\">\n      <th></th>\n      <th>PLAYER_ID</th>\n      <th>PLAYER_NAME</th>\n      <th>TEAM_ID</th>\n      <th>TEAM_ABBREVIATION</th>\n      <th>AGE</th>\n      <th>GP</th>\n      <th>W</th>\n      <th>L</th>\n      <th>W_PCT</th>\n      <th>MIN</th>\n      <th>...</th>\n      <th>BLKA_RANK</th>\n      <th>PF_RANK</th>\n      <th>PFD_RANK</th>\n      <th>PTS_RANK</th>\n      <th>PLUS_MINUS_RANK</th>\n      <th>NBA_FANTASY_PTS_RANK</th>\n      <th>DD2_RANK</th>\n      <th>TD3_RANK</th>\n      <th>CFID</th>\n      <th>CFPARAMS</th>\n    </tr>\n  </thead>\n  <tbody>\n    <tr>\n      <td>0</td>\n      <td>203932</td>\n      <td>Aaron Gordon</td>\n      <td>1610612753</td>\n      <td>ORL</td>\n      <td>24.0</td>\n      <td>52</td>\n      <td>24</td>\n      <td>28</td>\n      <td>0.462</td>\n      <td>1696.776667</td>\n      <td>...</td>\n      <td>447</td>\n      <td>362</td>\n      <td>53</td>\n      <td>78</td>\n      <td>438</td>\n      <td>58</td>\n      <td>30</td>\n      <td>25</td>\n      <td>5</td>\n      <td>203932,1610612753</td>\n    </tr>\n    <tr>\n      <td>1</td>\n      <td>1628988</td>\n      <td>Aaron Holiday</td>\n      <td>1610612754</td>\n      <td>IND</td>\n      <td>23.0</td>\n      <td>51</td>\n      <td>31</td>\n      <td>20</td>\n      <td>0.608</td>\n      <td>1178.620000</td>\n      <td>...</td>\n      <td>359</td>\n      <td>325</td>\n      <td>141</td>\n      <td>153</td>\n      <td>101</td>\n      <td>180</td>\n      <td>130</td>\n      <td>25</td>\n      <td>5</td>\n      <td>1628988,1610612754</td>\n    </tr>\n    <tr>\n      <td>2</td>\n      <td>1627846</td>\n      <td>Abdel Nader</td>\n      <td>1610612760</td>\n      <td>OKC</td>\n      <td>26.0</td>\n      <td>42</td>\n      <td>29</td>\n      <td>13</td>\n      <td>0.690</td>\n      <td>643.480000</td>\n      <td>...</td>\n      <td>185</td>\n      <td>209</td>\n      <td>283</td>\n      <td>274</td>\n      <td>341</td>\n      <td>304</td>\n      <td>221</td>\n      <td>25</td>\n      <td>5</td>\n      <td>1627846,1610612760</td>\n    </tr>\n    <tr>\n      <td>3</td>\n      <td>1629690</td>\n      <td>Adam Mokoka</td>\n      <td>1610612741</td>\n      <td>CHI</td>\n      <td>21.0</td>\n      <td>9</td>\n      <td>2</td>\n      <td>7</td>\n      <td>0.222</td>\n      <td>76.416667</td>\n      <td>...</td>\n      <td>106</td>\n      <td>88</td>\n      <td>436</td>\n      <td>435</td>\n      <td>139</td>\n      <td>441</td>\n      <td>221</td>\n      <td>25</td>\n      <td>5</td>\n      <td>1629690,1610612741</td>\n    </tr>\n    <tr>\n      <td>4</td>\n      <td>1629678</td>\n      <td>Admiral Schofield</td>\n      <td>1610612764</td>\n      <td>WAS</td>\n      <td>22.0</td>\n      <td>26</td>\n      <td>8</td>\n      <td>18</td>\n      <td>0.308</td>\n      <td>291.951667</td>\n      <td>...</td>\n      <td>120</td>\n      <td>173</td>\n      <td>377</td>\n      <td>382</td>\n      <td>328</td>\n      <td>393</td>\n      <td>221</td>\n      <td>25</td>\n      <td>5</td>\n      <td>1629678,1610612764</td>\n    </tr>\n  </tbody>\n</table>\n<p>5 rows × 65 columns</p>\n</div>",
      "text/plain": "   PLAYER_ID        PLAYER_NAME     TEAM_ID TEAM_ABBREVIATION   AGE  GP   W  \\\n0     203932       Aaron Gordon  1610612753               ORL  24.0  52  24   \n1    1628988      Aaron Holiday  1610612754               IND  23.0  51  31   \n2    1627846        Abdel Nader  1610612760               OKC  26.0  42  29   \n3    1629690        Adam Mokoka  1610612741               CHI  21.0   9   2   \n4    1629678  Admiral Schofield  1610612764               WAS  22.0  26   8   \n\n    L  W_PCT          MIN  ...  BLKA_RANK  PF_RANK  PFD_RANK  PTS_RANK  \\\n0  28  0.462  1696.776667  ...        447      362        53        78   \n1  20  0.608  1178.620000  ...        359      325       141       153   \n2  13  0.690   643.480000  ...        185      209       283       274   \n3   7  0.222    76.416667  ...        106       88       436       435   \n4  18  0.308   291.951667  ...        120      173       377       382   \n\n   PLUS_MINUS_RANK  NBA_FANTASY_PTS_RANK  DD2_RANK  TD3_RANK  CFID  \\\n0              438                    58        30        25     5   \n1              101                   180       130        25     5   \n2              341                   304       221        25     5   \n3              139                   441       221        25     5   \n4              328                   393       221        25     5   \n\n             CFPARAMS  \n0   203932,1610612753  \n1  1628988,1610612754  \n2  1627846,1610612760  \n3  1629690,1610612741  \n4  1629678,1610612764  \n\n[5 rows x 65 columns]"
     },
     "execution_count": 41,
     "metadata": {},
     "output_type": "execute_result"
    }
   ],
   "source": [
    "player_tots_df = LeagueDashPlayerStats(season=curr_season,\n",
    "                                        per_mode_detailed='Totals').get_data_frames()[0]\n",
    "\n",
    "player_tots_df.head()"
   ]
  },
  {
   "cell_type": "code",
   "execution_count": 42,
   "metadata": {},
   "outputs": [
    {
     "data": {
      "text/html": "<div>\n<style scoped>\n    .dataframe tbody tr th:only-of-type {\n        vertical-align: middle;\n    }\n\n    .dataframe tbody tr th {\n        vertical-align: top;\n    }\n\n    .dataframe thead th {\n        text-align: right;\n    }\n</style>\n<table border=\"1\" class=\"dataframe\">\n  <thead>\n    <tr style=\"text-align: right;\">\n      <th></th>\n      <th>TEAM_ID</th>\n      <th>TEAM_NAME</th>\n      <th>GP</th>\n      <th>W</th>\n      <th>L</th>\n      <th>W_PCT</th>\n      <th>MIN</th>\n      <th>OPP_FGM</th>\n      <th>OPP_FGA</th>\n      <th>OPP_FG_PCT</th>\n      <th>...</th>\n      <th>OPP_TOV_RANK</th>\n      <th>OPP_STL_RANK</th>\n      <th>OPP_BLK_RANK</th>\n      <th>OPP_BLKA_RANK</th>\n      <th>OPP_PF_RANK</th>\n      <th>OPP_PFD1</th>\n      <th>OPP_PTS_RANK</th>\n      <th>PLUS_MINUS_RANK</th>\n      <th>CFID</th>\n      <th>CFPARAMS</th>\n    </tr>\n  </thead>\n  <tbody>\n    <tr>\n      <td>0</td>\n      <td>1610612737</td>\n      <td>Atlanta Hawks</td>\n      <td>60</td>\n      <td>17</td>\n      <td>43</td>\n      <td>0.283</td>\n      <td>2905.0</td>\n      <td>2590.0</td>\n      <td>5439.0</td>\n      <td>0.476</td>\n      <td>...</td>\n      <td>7</td>\n      <td>29</td>\n      <td>30</td>\n      <td>9</td>\n      <td>26</td>\n      <td>1</td>\n      <td>30</td>\n      <td>29</td>\n      <td>10</td>\n      <td>Atlanta Hawks</td>\n    </tr>\n    <tr>\n      <td>1</td>\n      <td>1610612738</td>\n      <td>Boston Celtics</td>\n      <td>58</td>\n      <td>41</td>\n      <td>17</td>\n      <td>0.707</td>\n      <td>2799.0</td>\n      <td>2213.0</td>\n      <td>5015.0</td>\n      <td>0.441</td>\n      <td>...</td>\n      <td>8</td>\n      <td>5</td>\n      <td>24</td>\n      <td>8</td>\n      <td>14</td>\n      <td>9</td>\n      <td>4</td>\n      <td>3</td>\n      <td>10</td>\n      <td>Boston Celtics</td>\n    </tr>\n    <tr>\n      <td>2</td>\n      <td>1610612751</td>\n      <td>Brooklyn Nets</td>\n      <td>57</td>\n      <td>26</td>\n      <td>31</td>\n      <td>0.456</td>\n      <td>2771.0</td>\n      <td>2338.0</td>\n      <td>5306.0</td>\n      <td>0.441</td>\n      <td>...</td>\n      <td>27</td>\n      <td>15</td>\n      <td>22</td>\n      <td>22</td>\n      <td>13</td>\n      <td>17</td>\n      <td>12</td>\n      <td>14</td>\n      <td>10</td>\n      <td>Brooklyn Nets</td>\n    </tr>\n    <tr>\n      <td>3</td>\n      <td>1610612766</td>\n      <td>Charlotte Hornets</td>\n      <td>58</td>\n      <td>20</td>\n      <td>38</td>\n      <td>0.345</td>\n      <td>2804.0</td>\n      <td>2431.0</td>\n      <td>5089.0</td>\n      <td>0.478</td>\n      <td>...</td>\n      <td>16</td>\n      <td>23</td>\n      <td>18</td>\n      <td>26</td>\n      <td>16</td>\n      <td>26</td>\n      <td>15</td>\n      <td>27</td>\n      <td>10</td>\n      <td>Charlotte Hornets</td>\n    </tr>\n    <tr>\n      <td>4</td>\n      <td>1610612741</td>\n      <td>Chicago Bulls</td>\n      <td>59</td>\n      <td>20</td>\n      <td>39</td>\n      <td>0.339</td>\n      <td>2847.0</td>\n      <td>2331.0</td>\n      <td>4895.0</td>\n      <td>0.476</td>\n      <td>...</td>\n      <td>1</td>\n      <td>27</td>\n      <td>28</td>\n      <td>26</td>\n      <td>6</td>\n      <td>6</td>\n      <td>16</td>\n      <td>22</td>\n      <td>10</td>\n      <td>Chicago Bulls</td>\n    </tr>\n  </tbody>\n</table>\n<p>5 rows × 56 columns</p>\n</div>",
      "text/plain": "      TEAM_ID          TEAM_NAME  GP   W   L  W_PCT     MIN  OPP_FGM  OPP_FGA  \\\n0  1610612737      Atlanta Hawks  60  17  43  0.283  2905.0   2590.0   5439.0   \n1  1610612738     Boston Celtics  58  41  17  0.707  2799.0   2213.0   5015.0   \n2  1610612751      Brooklyn Nets  57  26  31  0.456  2771.0   2338.0   5306.0   \n3  1610612766  Charlotte Hornets  58  20  38  0.345  2804.0   2431.0   5089.0   \n4  1610612741      Chicago Bulls  59  20  39  0.339  2847.0   2331.0   4895.0   \n\n   OPP_FG_PCT  ...  OPP_TOV_RANK  OPP_STL_RANK  OPP_BLK_RANK  OPP_BLKA_RANK  \\\n0       0.476  ...             7            29            30              9   \n1       0.441  ...             8             5            24              8   \n2       0.441  ...            27            15            22             22   \n3       0.478  ...            16            23            18             26   \n4       0.476  ...             1            27            28             26   \n\n   OPP_PF_RANK  OPP_PFD1  OPP_PTS_RANK  PLUS_MINUS_RANK  CFID  \\\n0           26         1            30               29    10   \n1           14         9             4                3    10   \n2           13        17            12               14    10   \n3           16        26            15               27    10   \n4            6         6            16               22    10   \n\n            CFPARAMS  \n0      Atlanta Hawks  \n1     Boston Celtics  \n2      Brooklyn Nets  \n3  Charlotte Hornets  \n4      Chicago Bulls  \n\n[5 rows x 56 columns]"
     },
     "execution_count": 42,
     "metadata": {},
     "output_type": "execute_result"
    }
   ],
   "source": [
    "opp_tots_df = LeagueDashTeamStats(season=curr_season,\n",
    "                                    per_mode_detailed='Totals',\n",
    "                                    measure_type_detailed_defense='Opponent').get_data_frames()[0]\n",
    "opp_tots_df.head()                                   "
   ]
  },
  {
   "cell_type": "code",
   "execution_count": 43,
   "metadata": {},
   "outputs": [
    {
     "data": {
      "text/html": "<div>\n<style scoped>\n    .dataframe tbody tr th:only-of-type {\n        vertical-align: middle;\n    }\n\n    .dataframe tbody tr th {\n        vertical-align: top;\n    }\n\n    .dataframe thead th {\n        text-align: right;\n    }\n</style>\n<table border=\"1\" class=\"dataframe\">\n  <thead>\n    <tr style=\"text-align: right;\">\n      <th></th>\n      <th>PLAYER_ID</th>\n      <th>PLAYER_NAME</th>\n      <th>TEAM_ID</th>\n      <th>TEAM_ABBREVIATION</th>\n      <th>AGE</th>\n      <th>GP</th>\n      <th>W</th>\n      <th>L</th>\n      <th>W_PCT</th>\n      <th>MIN</th>\n      <th>...</th>\n      <th>PACE_RANK</th>\n      <th>sp_work_PACE_RANK</th>\n      <th>PIE_RANK</th>\n      <th>FGM_RANK</th>\n      <th>FGA_RANK</th>\n      <th>FGM_PG_RANK</th>\n      <th>FGA_PG_RANK</th>\n      <th>FG_PCT_RANK</th>\n      <th>CFID</th>\n      <th>CFPARAMS</th>\n    </tr>\n  </thead>\n  <tbody>\n    <tr>\n      <td>0</td>\n      <td>203932</td>\n      <td>Aaron Gordon</td>\n      <td>1610612753</td>\n      <td>ORL</td>\n      <td>24.0</td>\n      <td>52</td>\n      <td>24</td>\n      <td>28</td>\n      <td>0.462</td>\n      <td>32.6</td>\n      <td>...</td>\n      <td>460</td>\n      <td>460</td>\n      <td>168</td>\n      <td>72</td>\n      <td>64</td>\n      <td>87</td>\n      <td>77</td>\n      <td>271</td>\n      <td>5</td>\n      <td>203932,1610612753</td>\n    </tr>\n    <tr>\n      <td>1</td>\n      <td>1628988</td>\n      <td>Aaron Holiday</td>\n      <td>1610612754</td>\n      <td>IND</td>\n      <td>23.0</td>\n      <td>51</td>\n      <td>31</td>\n      <td>20</td>\n      <td>0.608</td>\n      <td>23.1</td>\n      <td>...</td>\n      <td>422</td>\n      <td>422</td>\n      <td>267</td>\n      <td>150</td>\n      <td>135</td>\n      <td>168</td>\n      <td>144</td>\n      <td>330</td>\n      <td>5</td>\n      <td>1628988,1610612754</td>\n    </tr>\n    <tr>\n      <td>2</td>\n      <td>1627846</td>\n      <td>Abdel Nader</td>\n      <td>1610612760</td>\n      <td>OKC</td>\n      <td>26.0</td>\n      <td>42</td>\n      <td>29</td>\n      <td>13</td>\n      <td>0.690</td>\n      <td>15.3</td>\n      <td>...</td>\n      <td>317</td>\n      <td>317</td>\n      <td>343</td>\n      <td>278</td>\n      <td>287</td>\n      <td>310</td>\n      <td>326</td>\n      <td>156</td>\n      <td>5</td>\n      <td>1627846,1610612760</td>\n    </tr>\n    <tr>\n      <td>3</td>\n      <td>1629690</td>\n      <td>Adam Mokoka</td>\n      <td>1610612741</td>\n      <td>CHI</td>\n      <td>21.0</td>\n      <td>9</td>\n      <td>2</td>\n      <td>7</td>\n      <td>0.222</td>\n      <td>8.5</td>\n      <td>...</td>\n      <td>264</td>\n      <td>264</td>\n      <td>483</td>\n      <td>437</td>\n      <td>434</td>\n      <td>434</td>\n      <td>430</td>\n      <td>366</td>\n      <td>5</td>\n      <td>1629690,1610612741</td>\n    </tr>\n    <tr>\n      <td>4</td>\n      <td>1629678</td>\n      <td>Admiral Schofield</td>\n      <td>1610612764</td>\n      <td>WAS</td>\n      <td>22.0</td>\n      <td>26</td>\n      <td>8</td>\n      <td>18</td>\n      <td>0.308</td>\n      <td>11.2</td>\n      <td>...</td>\n      <td>215</td>\n      <td>215</td>\n      <td>460</td>\n      <td>385</td>\n      <td>378</td>\n      <td>411</td>\n      <td>405</td>\n      <td>366</td>\n      <td>5</td>\n      <td>1629678,1610612764</td>\n    </tr>\n  </tbody>\n</table>\n<p>5 rows × 79 columns</p>\n</div>",
      "text/plain": "   PLAYER_ID        PLAYER_NAME     TEAM_ID TEAM_ABBREVIATION   AGE  GP   W  \\\n0     203932       Aaron Gordon  1610612753               ORL  24.0  52  24   \n1    1628988      Aaron Holiday  1610612754               IND  23.0  51  31   \n2    1627846        Abdel Nader  1610612760               OKC  26.0  42  29   \n3    1629690        Adam Mokoka  1610612741               CHI  21.0   9   2   \n4    1629678  Admiral Schofield  1610612764               WAS  22.0  26   8   \n\n    L  W_PCT   MIN  ...  PACE_RANK  sp_work_PACE_RANK  PIE_RANK  FGM_RANK  \\\n0  28  0.462  32.6  ...        460                460       168        72   \n1  20  0.608  23.1  ...        422                422       267       150   \n2  13  0.690  15.3  ...        317                317       343       278   \n3   7  0.222   8.5  ...        264                264       483       437   \n4  18  0.308  11.2  ...        215                215       460       385   \n\n   FGA_RANK  FGM_PG_RANK  FGA_PG_RANK  FG_PCT_RANK  CFID            CFPARAMS  \n0        64           87           77          271     5   203932,1610612753  \n1       135          168          144          330     5  1628988,1610612754  \n2       287          310          326          156     5  1627846,1610612760  \n3       434          434          430          366     5  1629690,1610612741  \n4       378          411          405          366     5  1629678,1610612764  \n\n[5 rows x 79 columns]"
     },
     "execution_count": 43,
     "metadata": {},
     "output_type": "execute_result"
    }
   ],
   "source": [
    "players_adv_df = LeagueDashPlayerStats(season=curr_season,\n",
    "                                        measure_type_detailed_defense='Advanced').get_data_frames()[0]\n",
    "players_adv_df.head()"
   ]
  },
  {
   "cell_type": "code",
   "execution_count": 44,
   "metadata": {},
   "outputs": [
    {
     "data": {
      "text/plain": "Index(['PLAYER_ID', 'PLAYER_NAME', 'TEAM_ID', 'TEAM_ABBREVIATION', 'AGE', 'GP',\n       'W', 'L', 'W_PCT', 'MIN', 'E_OFF_RATING', 'OFF_RATING',\n       'sp_work_OFF_RATING', 'E_DEF_RATING', 'DEF_RATING',\n       'sp_work_DEF_RATING', 'E_NET_RATING', 'NET_RATING',\n       'sp_work_NET_RATING', 'AST_PCT', 'AST_TO', 'AST_RATIO', 'OREB_PCT',\n       'DREB_PCT', 'REB_PCT', 'TM_TOV_PCT', 'E_TOV_PCT', 'EFG_PCT', 'TS_PCT',\n       'USG_PCT', 'E_USG_PCT', 'E_PACE', 'PACE', 'PACE_PER40', 'sp_work_PACE',\n       'PIE', 'POSS', 'FGM', 'FGA', 'FGM_PG', 'FGA_PG', 'FG_PCT', 'GP_RANK',\n       'W_RANK', 'L_RANK', 'W_PCT_RANK', 'MIN_RANK', 'E_OFF_RATING_RANK',\n       'OFF_RATING_RANK', 'sp_work_OFF_RATING_RANK', 'E_DEF_RATING_RANK',\n       'DEF_RATING_RANK', 'sp_work_DEF_RATING_RANK', 'E_NET_RATING_RANK',\n       'NET_RATING_RANK', 'sp_work_NET_RATING_RANK', 'AST_PCT_RANK',\n       'AST_TO_RANK', 'AST_RATIO_RANK', 'OREB_PCT_RANK', 'DREB_PCT_RANK',\n       'REB_PCT_RANK', 'TM_TOV_PCT_RANK', 'E_TOV_PCT_RANK', 'EFG_PCT_RANK',\n       'TS_PCT_RANK', 'USG_PCT_RANK', 'E_USG_PCT_RANK', 'E_PACE_RANK',\n       'PACE_RANK', 'sp_work_PACE_RANK', 'PIE_RANK', 'FGM_RANK', 'FGA_RANK',\n       'FGM_PG_RANK', 'FGA_PG_RANK', 'FG_PCT_RANK', 'CFID', 'CFPARAMS'],\n      dtype='object')"
     },
     "execution_count": 44,
     "metadata": {},
     "output_type": "execute_result"
    }
   ],
   "source": [
    "players_adv_df.columns"
   ]
  },
  {
   "cell_type": "code",
   "execution_count": 52,
   "metadata": {},
   "outputs": [],
   "source": [
    "player_tots_df.to_csv('2019-20_player_traditonal_totals.csv')\n",
    "players_adv_df.to_csv('2019-20_player_adv.csv')\n",
    "team_adv_df.to_csv('2019-20_team_adv.csv')\n",
    "team_tots_df.to_csv('2019-20_team_totals.csv')\n",
    "opp_tots_df.to_csv('2019-20_opp_totals.csv')"
   ]
  },
  {
   "cell_type": "code",
   "execution_count": 46,
   "metadata": {},
   "outputs": [],
   "source": [
    "#players_off_tots_df = LeagueDashPlayerStats(season=curr_season, measure_type_detailed_defense='Opponent').get_data_frames()[0]\n",
    "#players_off_tots_df.head()\n",
    "\n",
    "# This output is bugged. Look up individual total opponent points separately."
   ]
  },
  {
   "cell_type": "code",
   "execution_count": 47,
   "metadata": {},
   "outputs": [],
   "source": [
    "# Calculate total team possessions"
   ]
  },
  {
   "cell_type": "code",
   "execution_count": 48,
   "metadata": {},
   "outputs": [],
   "source": [
    "# Calculate team offensive rating"
   ]
  },
  {
   "cell_type": "code",
   "execution_count": 49,
   "metadata": {},
   "outputs": [],
   "source": [
    "# Calculate team defensive rating"
   ]
  },
  {
   "cell_type": "code",
   "execution_count": 50,
   "metadata": {},
   "outputs": [],
   "source": [
    "# Calculate total player possessions for players of interest\n",
    "\n",
    "# CJ\n",
    "# Gallo"
   ]
  }
 ]
}